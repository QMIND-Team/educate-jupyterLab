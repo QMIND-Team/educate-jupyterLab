{
 "cells": [
  {
   "cell_type": "markdown",
   "metadata": {},
   "source": [
    "# Singular Value Decomposition\n"
   ]
  },
  {
   "cell_type": "markdown",
   "metadata": {},
   "source": [
    "## Table of Contents\n",
    "\n",
    "* [Introduction](#intro)\n",
    "* [Background](#background)\n",
    "* [Theory](#theory)\n",
    "* [Image Compression Example](#ex)\n",
    "* [References](#ref)"
   ]
  },
  {
   "cell_type": "markdown",
   "metadata": {},
   "source": [
    "### Introduction to the Concept <a class=\"anchor\" id=\"intro\"></a>"
   ]
  },
  {
   "cell_type": "markdown",
   "metadata": {},
   "source": [
    "Singular Value Decomposition (SVD) in the simplest terms is decomposing vectors (matrices) onto orthogonal axes. This is useful in data science and machine learning, as mastering the technique helps transform raw, uncorrelated data into a representation that can be easily manipulated into a specific machine learning model. This is known as dimensionality reduction.\n",
    "\n",
    "In this notebook I will be going through the mathematical theory behind SVD and will end on a few relevant examples that may come up in projects. The background of the technique heavily relies on an understanding of linear algebra, so I will try my best to provide a good baseline for the definitions.\n"
   ]
  },
  {
   "cell_type": "markdown",
   "metadata": {},
   "source": [
    "### Background/Theory Videos <a class=\"anchor\" id=\"background\"></a>"
   ]
  },
  {
   "cell_type": "code",
   "execution_count": 1,
   "metadata": {
    "scrolled": false
   },
   "outputs": [
    {
     "data": {
      "text/html": [
       "\n",
       "        <iframe\n",
       "            width=\"560\"\n",
       "            height=\"315\"\n",
       "            src=\"https://www.youtube.com/embed/gXbThCXjZFM\"\n",
       "            frameborder=\"0\"\n",
       "            allowfullscreen\n",
       "        ></iframe>\n",
       "        "
      ],
      "text/plain": [
       "<IPython.lib.display.IFrame at 0x2565e411148>"
      ]
     },
     "execution_count": 1,
     "metadata": {},
     "output_type": "execute_result"
    }
   ],
   "source": [
    "from IPython.display import IFrame\n",
    "IFrame('https://www.youtube.com/embed/gXbThCXjZFM',560,315)"
   ]
  },
  {
   "cell_type": "markdown",
   "metadata": {},
   "source": [
    "Professor Steve Brunton from the University of Washington has a fantastic series of videos that provide a solid overview of the theories and use-cases (along with examples) for SVD. The link below will lead to his playlist for the topic.\n",
    "\n",
    "[Steve Brunton SVD playlist](https://www.youtube.com/playlist?list=PLMrJAkhIeNNSVjnsviglFoY2nXildDCcv)"
   ]
  },
  {
   "cell_type": "code",
   "execution_count": 2,
   "metadata": {},
   "outputs": [
    {
     "data": {
      "text/html": [
       "\n",
       "        <iframe\n",
       "            width=\"560\"\n",
       "            height=\"315\"\n",
       "            src=\"https://www.youtube.com/embed/PFDu9oVAE-g\"\n",
       "            frameborder=\"0\"\n",
       "            allowfullscreen\n",
       "        ></iframe>\n",
       "        "
      ],
      "text/plain": [
       "<IPython.lib.display.IFrame at 0x2565e33be08>"
      ]
     },
     "execution_count": 2,
     "metadata": {},
     "output_type": "execute_result"
    }
   ],
   "source": [
    "IFrame('https://www.youtube.com/embed/PFDu9oVAE-g',560,315)"
   ]
  },
  {
   "cell_type": "markdown",
   "metadata": {},
   "source": [
    "If you have ever taken linear algebra in university, you probably have come across 3Blue1Brown's videos. His videos are extremely useful for both visualising and understanding the basic concepts in linear algebra. Knowing what eigenvectors and eigenvalues are and how they are calculated is necessary for SVD calculations. Honestly, if you have a little bit of interest in this stuff, it is worth watching the entire series (and his other ones too!). All the concepts for SVDs harken back to the stuff he teaches. Subscribe to him, he is AMAZING.\n",
    "\n",
    "[Essence of Linear Algebra Series](https://www.youtube.com/playlist?list=PLZHQObOWTQDPD3MizzM2xVFitgF8hE_ab)\n",
    "\n",
    "[His Website](https://www.3blue1brown.com/)"
   ]
  },
  {
   "cell_type": "markdown",
   "metadata": {},
   "source": [
    "### Basic Mathematical Theory <a class=\"anchor\" id=\"theory\"></a>"
   ]
  },
  {
   "cell_type": "markdown",
   "metadata": {},
   "source": [
    "![title](img/eqn.png)\n",
    "\n",
    "Let $A$ be defined as an *m* x *n* matrix  (it has *m* rows and *n* columns),\n",
    "with *m* $\\geq$ *n*\n",
    "\n",
    "SVD in theory states the relationship shown above. All it is really saying is that we can break down the matrix $A$ into the product of three other matrices. Remember, a matrix is essentially a transformed vector.\n",
    "\n",
    "$U$ and $V$ as seen in the image above represent orthogonal matrices, $U$ being a row matrix and $V$ being a column matrix. By definition, an orthogonal matrix is square matrix which when multiplied by its transpose  matrix (denoted as $U^{T}$ for matrix $U$ as seen in the equation above) will form an [identity matrix](https://en.wikipedia.org/wiki/Identity_matrix) $I_{n}$.\n",
    "\n",
    "$S$, or more commonly denoted as $\\sum$ is the diagonal matrix, for up to $\\sigma_{m}$ values.\n",
    "\n",
    "The relationships is seen like this:\n",
    "\n",
    "![title](img/proof.png)\n",
    "\n",
    "It is difficult to visualize how this data is interpreted, breaking down the matrix helps with this process.\n",
    "\n",
    "![title](img/im.png)\n",
    "\n",
    "The following case is for if you were given a picture of a face. Each column in the picture, written as $x_{1}$,$x_{2}$,$x_{3}$...$x_{m}$ represent an orthogonal vector that we can assign a picture state to. The matrix itself is the breakdown of the picture, and each column is a piece of the data.\n",
    "\n",
    "![image](img/im2.png)\n",
    "\n",
    "From the picture above, we see the breakdown for $U$ (known as the left singular values) and $V^{T}$ (known as the right singular values). Each column in $U$ represent eigenvalues (lets call them \"eigenfaces\") for each column in matrix $A$. They are the unique transformation data pieces that allow for the picture to be recreated. Each column in $V^{T}$ can be thought of the combination of columns in $U$ to create the hierarchically corresponding column in $A$. \n",
    " \n",
    "In $\\sum$, $\\sigma_{1}\\geq\\sigma_{2}\\geq\\sigma_{3}\\geq$...$\\sigma_{m}\\geq0$\n",
    "\n",
    "This means that each individual column starting from $\\sigma_{1}$ has more importance for recreating the picture as $\\sigma_{2}$ and so forth. This is why SVD is important for image compression and dimensionality reduction, as it ranks the most important features for extraction.\n",
    "\n",
    "\n",
    "Key reference: [Steve Brunton](https://www.youtube.com/watch?v=nbBvuuNVfco) \n"
   ]
  },
  {
   "cell_type": "markdown",
   "metadata": {},
   "source": [
    "### Example 1 - Image Compression <a class=\"anchor\" id=\"ex\"></a>"
   ]
  },
  {
   "cell_type": "markdown",
   "metadata": {},
   "source": [
    "Simple example of image compression using the SVD function in Python.\n",
    "[Resource](https://medium.com/@rameshputalapattu/jupyter-python-image-compression-and-svd-an-interactive-exploration-703c953e44f6): Ramesh Putalapattu"
   ]
  },
  {
   "cell_type": "code",
   "execution_count": 3,
   "metadata": {},
   "outputs": [],
   "source": [
    "# Basic set-up \n",
    "\n",
    "%matplotlib inline\n",
    "import numpy as np\n",
    "import matplotlib.pyplot as plot\n",
    "from numpy.linalg import svd\n",
    "from ipywidgets import interact,interactive,interact_manual\n",
    "\n",
    "# image library from sci-kit familt of packages\n",
    "from skimage import data\n",
    "from skimage.color import rgb2gray\n",
    "from skimage import img_as_float\n",
    "\n",
    "gray_images = {\n",
    "    \n",
    "    \"checkerboard\":rgb2gray(img_as_float(data.checkerboard())),\n",
    "    \"cat\":rgb2gray(img_as_float(data.chelsea())),\n",
    "    \"coins\":data.coins(),\n",
    "    \"coffee\":rgb2gray(img_as_float(data.coffee())),\n",
    "    \"logo\":rgb2gray(img_as_float(data.logo())),\n",
    "    \"camera\":data.camera(),\n",
    "    \"astronaut\":rgb2gray(img_as_float(data.astronaut()))\n",
    "\n",
    "}\n"
   ]
  },
  {
   "cell_type": "code",
   "execution_count": 4,
   "metadata": {},
   "outputs": [],
   "source": [
    "# Define the compress_svd function using the previously imported svd function\n",
    "\n",
    "def compress_svd(image, k):\n",
    "    \n",
    "    U,S,V = svd(image,full_matrices = False)\n",
    "    \n",
    "    \"\"\"\n",
    "    Remember the equation from above? The following line is it written in Python. It's really easy to use!\n",
    "    \"\"\"\n",
    "    reconstruct_matrix = np.dot(U[:,:k], np.dot(np.diag(S[:k]), V[:k,:]))\n",
    "    \n",
    "    return reconstruct_matrix, S\n"
   ]
  },
  {
   "cell_type": "code",
   "execution_count": 7,
   "metadata": {},
   "outputs": [],
   "source": [
    "# Define the compress + show grayed images function\n",
    "\n",
    "def compress_show_gray_images(img_name,k):\n",
    "    \n",
    "    img = gray_images[img_name]\n",
    "    original_shape = img.shape\n",
    "    reconstruct_img,S = compress_svd(img,k)\n",
    "    fig,axes = plot.subplots(1,2,figsize=(8,5))\n",
    "    axes[0].plot(S)\n",
    "    compression_ratio = 100 * ((k + (k*(original_shape[0] +original_shape[1])))/(original_shape[0]*original_shape[1]))\n",
    "    axes[1].set_title(\"compression ratio = {:.2f}\".format(compression_ratio)+\"%\")\n",
    "    axes[1].imshow(reconstruct_img,cmap=\"gray\")\n",
    "    axes[1].axis(\"off\")\n",
    "    fig.tight_layout()"
   ]
  },
  {
   "cell_type": "code",
   "execution_count": 8,
   "metadata": {
    "scrolled": true
   },
   "outputs": [
    {
     "data": {
      "application/vnd.jupyter.widget-view+json": {
       "model_id": "bd9e4edceffc4f4491458d9b014c0b75",
       "version_major": 2,
       "version_minor": 0
      },
      "text/plain": [
       "interactive(children=(Dropdown(description='img_name', options=('checkerboard', 'cat', 'coins', 'coffee', 'log…"
      ]
     },
     "metadata": {},
     "output_type": "display_data"
    }
   ],
   "source": [
    "interact(compress_show_gray_images,img_name = list(gray_images.keys()), k=(1,300));"
   ]
  },
  {
   "cell_type": "markdown",
   "metadata": {},
   "source": [
    "### Further Readings/Key Resources <a class=\"anchor\" id=\"ref\"></a>"
   ]
  },
  {
   "cell_type": "markdown",
   "metadata": {},
   "source": [
    "[Jonathan Hui - Medium](https://medium.com/@jonathan_hui/machine-learning-singular-value-decomposition-svd-principal-component-analysis-pca-1d45e885e491)\n",
    "\n",
    "[HadrienJ - GitHub](https://hadrienj.github.io/posts/Deep-Learning-Book-Series-2.8-Singular-Value-Decomposition/)\n",
    "\n",
    "[Handbook Series Linear Algebra](http://people.duke.edu/~hpgavin/SystemID/References/Golub+Reinsch-NM-1970.pdf)\n",
    "\n",
    "[Tsegaselassie Workalemahu, ScholarWorks Georgia State University](https://scholarworks.gsu.edu/cgi/viewcontent.cgi?article=1051&context=math_theses)\n",
    "\n",
    "[Multilinear Singular Value Decomposition Paper - Society for Industrial and APplied Mathematics](https://www.sandia.gov/~tgkolda/tdw2004/ldl-94-31.pdf)\n",
    "\n",
    "[Reza Bagheri - Towards Data Science](https://towardsdatascience.com/understanding-singular-value-decomposition-and-its-application-in-data-science-388a54be95d)\n",
    "\n",
    "[SVD Tutorial - MIT](https://web.mit.edu/be.400/www/SVD/Singular_Value_Decomposition.htm)\n",
    "\n",
    "[Wolfram MathWorld](https://mathworld.wolfram.com/SingularValueDecomposition.html)\n",
    "\n",
    "[VenkatG = CS Theory Textbook](https://www.cs.cmu.edu/~venkatg/teaching/CStheory-infoage/book-chapter-4.pdf)\n",
    "\n",
    "[Hussein Abdullatif - Towards Data Science](https://towardsdatascience.com/svd-8c2f72e264f)\n",
    "\n",
    "[Jason Brownlee - Machine Learning Mastery](https://machinelearningmastery.com/singular-value-decomposition-for-dimensionality-reduction-in-python/)\n",
    "\n",
    "[Cory Maklin - Towards Data Science](https://towardsdatascience.com/singular-value-decomposition-example-in-python-dab2507d85a0)"
   ]
  }
 ],
 "metadata": {
  "kernelspec": {
   "display_name": "Python 3",
   "language": "python",
   "name": "python3"
  },
  "language_info": {
   "codemirror_mode": {
    "name": "ipython",
    "version": 3
   },
   "file_extension": ".py",
   "mimetype": "text/x-python",
   "name": "python",
   "nbconvert_exporter": "python",
   "pygments_lexer": "ipython3",
   "version": "3.7.6"
  },
  "latex_envs": {
   "LaTeX_envs_menu_present": true,
   "autoclose": false,
   "autocomplete": true,
   "bibliofile": "biblio.bib",
   "cite_by": "apalike",
   "current_citInitial": 1,
   "eqLabelWithNumbers": true,
   "eqNumInitial": 1,
   "hotkeys": {
    "equation": "Ctrl-E",
    "itemize": "Ctrl-I"
   },
   "labels_anchors": false,
   "latex_user_defs": false,
   "report_style_numbering": false,
   "user_envs_cfg": false
  },
  "nbTranslate": {
   "displayLangs": [
    "*"
   ],
   "hotkey": "alt-t",
   "langInMainMenu": true,
   "sourceLang": "en",
   "targetLang": "fr",
   "useGoogleTranslate": true
  },
  "toc": {
   "base_numbering": 1,
   "nav_menu": {},
   "number_sections": true,
   "sideBar": true,
   "skip_h1_title": false,
   "title_cell": "Table of Contents",
   "title_sidebar": "Contents",
   "toc_cell": false,
   "toc_position": {
    "height": "calc(100% - 180px)",
    "left": "10px",
    "top": "150px",
    "width": "177px"
   },
   "toc_section_display": true,
   "toc_window_display": true
  },
  "varInspector": {
   "cols": {
    "lenName": 16,
    "lenType": 16,
    "lenVar": 40
   },
   "kernels_config": {
    "python": {
     "delete_cmd_postfix": "",
     "delete_cmd_prefix": "del ",
     "library": "var_list.py",
     "varRefreshCmd": "print(var_dic_list())"
    },
    "r": {
     "delete_cmd_postfix": ") ",
     "delete_cmd_prefix": "rm(",
     "library": "var_list.r",
     "varRefreshCmd": "cat(var_dic_list()) "
    }
   },
   "types_to_exclude": [
    "module",
    "function",
    "builtin_function_or_method",
    "instance",
    "_Feature"
   ],
   "window_display": false
  }
 },
 "nbformat": 4,
 "nbformat_minor": 4
}
