{
 "cells": [
  {
   "cell_type": "markdown",
   "metadata": {},
   "source": [
    "# What is OpenCV"
   ]
  },
  {
   "cell_type": "markdown",
   "metadata": {},
   "source": [
    "OpenCV is an open-source computer vision library. It is available in Python and C++. It is the most popular computer vision library which means there is lots of educational information about there for using its many modules. It has prebuilt modules for many of the techniques listed in this which makes it great for quickly developing models and testing."
   ]
  },
  {
   "cell_type": "markdown",
   "metadata": {},
   "source": [
    "# Videos"
   ]
  },
  {
   "cell_type": "markdown",
   "metadata": {},
   "source": [
    "## Short Version "
   ]
  },
  {
   "cell_type": "code",
   "execution_count": 1,
   "metadata": {},
   "outputs": [
    {
     "data": {
      "text/html": [
       "\n",
       "        <iframe\n",
       "            width=\"560\"\n",
       "            height=\"315\"\n",
       "            src=\"https://www.youtube.com/watch?v=kdLM6AOd2vc\"\n",
       "            frameborder=\"0\"\n",
       "            allowfullscreen\n",
       "        ></iframe>\n",
       "        "
      ],
      "text/plain": [
       "<IPython.lib.display.IFrame at 0x1f89cd23ec8>"
      ]
     },
     "execution_count": 1,
     "metadata": {},
     "output_type": "execute_result"
    }
   ],
   "source": [
    "from IPython.display import Image\n",
    "from IPython.core.display import HTML \n",
    "from IPython.display import IFrame\n",
    "IFrame('https://www.youtube.com/watch?v=kdLM6AOd2vc', 560, 315)"
   ]
  },
  {
   "cell_type": "markdown",
   "metadata": {},
   "source": [
    "## Long Version"
   ]
  },
  {
   "cell_type": "code",
   "execution_count": 3,
   "metadata": {},
   "outputs": [
    {
     "data": {
      "text/html": [
       "\n",
       "        <iframe\n",
       "            width=\"560\"\n",
       "            height=\"315\"\n",
       "            src=\"https://www.youtube.com/watch?v=rfscVS0vtbw\"\n",
       "            frameborder=\"0\"\n",
       "            allowfullscreen\n",
       "        ></iframe>\n",
       "        "
      ],
      "text/plain": [
       "<IPython.lib.display.IFrame at 0x1fbb03b81c8>"
      ]
     },
     "execution_count": 3,
     "metadata": {},
     "output_type": "execute_result"
    }
   ],
   "source": [
    "IFrame('https://www.youtube.com/watch?v=rfscVS0vtbw', 560, 315)"
   ]
  },
  {
   "cell_type": "markdown",
   "metadata": {},
   "source": [
    "# Pros and Cons"
   ]
  },
  {
   "cell_type": "markdown",
   "metadata": {},
   "source": [
    "## Pros"
   ]
  },
  {
   "cell_type": "markdown",
   "metadata": {},
   "source": [
    "* One of the most popular computer vision libraries with lots of documentation\n",
    "* Many computer vision techniques included within the library\n",
    "* Multiplatform and available for both Python and C++"
   ]
  },
  {
   "cell_type": "markdown",
   "metadata": {},
   "source": [
    "## Cons"
   ]
  },
  {
   "cell_type": "markdown",
   "metadata": {},
   "source": [
    "* Can get very slow when dealing with large datasets or images\n",
    "* No built in GPU support, can still get GPU support with CUDA"
   ]
  },
  {
   "cell_type": "markdown",
   "metadata": {},
   "source": [
    "# OpenCV Basics"
   ]
  },
  {
   "cell_type": "markdown",
   "metadata": {},
   "source": [
    "## Reading and Writing Images"
   ]
  },
  {
   "cell_type": "markdown",
   "metadata": {},
   "source": [
    "<code>imageIn = cv2.imread(filelocation, flags)</code>"
   ]
  },
  {
   "cell_type": "markdown",
   "metadata": {},
   "source": [
    "The single line of code loads and image from the specified file location. The following flags specify the format in which the image is read. These flags are:\n",
    "\n",
    "**cv2.IMREAD_COLOR** - loads in a colour image\n",
    "\n",
    "**cv2.IMREAD_GRAYSCALE** - loads in an image in greyscale format\n",
    "\n",
    "**cv2.IMREAD_UNCHANGED** - loads in an image in their given format. This is useful when dealing with PNG images which may also contain an alpha channel"
   ]
  },
  {
   "cell_type": "markdown",
   "metadata": {},
   "source": [
    "`cv2.imwrite(filename, image, params)`"
   ]
  },
  {
   "cell_type": "markdown",
   "metadata": {},
   "source": [
    "The above code saves an image to a specified file and location. The image format is specified in the filaname. The image is the actual image matrix that you are saving. The params argument specifies formating information such as the quality or compression of the image"
   ]
  },
  {
   "cell_type": "markdown",
   "metadata": {},
   "source": [
    "Similar to reading and writing images, OpenCV can handle videos. Using the function `VideoCapture()` and necessary arguments, you can read videos from a device or a file. Often times in computer vision applications, videos will be read in and then analyzed frame by frame"
   ]
  },
  {
   "cell_type": "markdown",
   "metadata": {},
   "source": [
    "## Changing Colour Spaces"
   ]
  },
  {
   "cell_type": "markdown",
   "metadata": {},
   "source": [
    "If you have read in you image but require it to be in a specific colour space, you can change the represenation of the image as needed using\n",
    "\n",
    "`newImage = cv2.cvtColor(image, colourSpace)`\n",
    "\n",
    "The colourSpace flag is where you specify the intended format. These flags are:\n",
    "\n",
    "**cv2.COLOR_BGR2RGB** - converts image from BGR (blue, green, read) to RGB (red, green, blue)\n",
    "\n",
    "**cv2.COLOR_BGR2GRAY** - converts image from BGR to greyscale\n",
    "\n",
    "**cv2.COLOR_BGR2HSV** - converts image from BGR to HSV (Hue Saturation Value)"
   ]
  },
  {
   "cell_type": "markdown",
   "metadata": {},
   "source": [
    "## Resizing Images"
   ]
  },
  {
   "cell_type": "markdown",
   "metadata": {},
   "source": [
    "There are many reasons as to why you may need to resize an image. Firstly, many machine learning models require a fixed input in which all data in must be of the same size. Additionally models will require more computational power and time when dealing with larger images. There is a trade-off between achieving a strong model while improving speed with smaller image sizes and this is something to keep in mind when creating computer vision models.\n",
    "\n",
    "Resizing an image is done using:\n",
    "\n",
    "`newImage = cv2.resize(image, (height, width, channels))`\n",
    "\n",
    "Note that the dimensions are given in (height, width) which is (y,x). This is opposite of the normal coordinate convention of (x,y)."
   ]
  },
  {
   "cell_type": "markdown",
   "metadata": {},
   "source": [
    "# OpenCV for Computer Vision Applications"
   ]
  },
  {
   "cell_type": "markdown",
   "metadata": {},
   "source": [
    "## Image Segmentation"
   ]
  },
  {
   "cell_type": "markdown",
   "metadata": {},
   "source": [
    "Image segmentation is the process of creating regions within an image based on specific criteria such as colour, type of object, or texture."
   ]
  },
  {
   "cell_type": "markdown",
   "metadata": {},
   "source": [
    "### Thresholding\n",
    "\n",
    "One way to accomplish image segmentation is through image thresholding. Thresholding is the process of comparing a pixel value with a provided threshold and making changes based on this comparison\n",
    "\n",
    "#### Binary Thresholding\n",
    "\n",
    "Binary thresholding is where a single threshold is applied to the entire image. OpenCV has a built in function called `cv2.threshold` with allows you to utilize different forms of binary thresholding.\n",
    "\n",
    "<code>\n",
    "ret, binary = cv2.threshold(image, thresholdVal, maxVal, cv2.THRESH_BINARY)\n",
    "</code>\n",
    "\n",
    "The above code uses the `threshold` function in OpenCV to apply a binary threshold to the entire image. The threshold value is often found from trial and error as it is specific to your application. The maxVal is the maximum value in this image (255 for a grey scale image). `cv2.THRESH_BINARY` is a flag that signifies this is a binary mask. There are other flags including:\n",
    "\n",
    "**cv.THRESH_BINARY_INV** - Binary threshold but inverts the output\n",
    "\n",
    "**cv.THRESH_TRUNC** - Everything greater than the threshold value is kept the same, everything less than the threshold is binary thresholded.\n",
    "\n",
    "**cv.THRESH_TOZERO** - Everything less than the threshold is set to zero\n",
    "\n",
    "**cv.THRESH_TOZERO_INV** - THRESH_TOZERO but inverts the output\n",
    "\n",
    "An example of each of these thresholding types can be seen below"
   ]
  },
  {
   "cell_type": "code",
   "execution_count": 3,
   "metadata": {},
   "outputs": [
    {
     "data": {
      "text/html": [
       "<img src=\"https://docs.opencv.org/trunk/threshold.jpg\"/>"
      ],
      "text/plain": [
       "<IPython.core.display.Image object>"
      ]
     },
     "execution_count": 3,
     "metadata": {},
     "output_type": "execute_result"
    }
   ],
   "source": [
    "Image(url= \"https://docs.opencv.org/trunk/threshold.jpg\")"
   ]
  },
  {
   "cell_type": "markdown",
   "metadata": {},
   "source": [
    "#### Adaptive Thresholding\n",
    "\n"
   ]
  },
  {
   "cell_type": "markdown",
   "metadata": {},
   "source": [
    "Although binary thresholding is easier to set up and use, it isn't always the best option. If your lighting is inconsistent in an image, it makes more sense to use adaptive thresholding. Adaptive thresholing creates a unique threshold value for regions of an image. Adaptive thresholding is done with OpenCV using the method:\n",
    "\n",
    "`cv2.adaptiveThreshold`\n",
    "\n",
    "Example:\n",
    "\n",
    "`newImage = cv2.adaptiveThreshold(sourceImage, maxValue, adaptiveMethod, type, blockSize, C)`\n",
    "\n",
    "Similar to the binary thresholding method, the maxValue is the maximum value for the pixels (255 for a greyscale image), adaptiveMethod is the specific algorithm used **cv2.ADAPTIVE_THRESH_MEAN_C** or **cv2.ADAPTIVE_THRESH_GUASSIAN_C**, type uses the above handling specifiers from binary thresholding. Blocksize determines the \"neighbourhood\" of pixels you are analyzing each time (**ODD NUMBER**) and C is a constant subtracted from the average.\n",
    "\n",
    "The strength of this method can be seen below:"
   ]
  },
  {
   "cell_type": "code",
   "execution_count": 4,
   "metadata": {},
   "outputs": [
    {
     "data": {
      "text/html": [
       "<img src=\"https://docs.opencv.org/3.4/ada_threshold.jpg\"/>"
      ],
      "text/plain": [
       "<IPython.core.display.Image object>"
      ]
     },
     "execution_count": 4,
     "metadata": {},
     "output_type": "execute_result"
    }
   ],
   "source": [
    "Image(url='https://docs.opencv.org/3.4/ada_threshold.jpg')"
   ]
  },
  {
   "cell_type": "markdown",
   "metadata": {},
   "source": [
    "#### Watershed Algorithm\n",
    "\n",
    "The watershed algorithm is a more advanced algorithm that can be used to complete image segmentation. It gets it's name from a topographical surface and the waterlevel on it, usually denoted as a watershed. You can imagine an image where higher intensities are peaks on a topographical map, and lower intensities are the troughs. \n",
    "\n",
    "Using OpenCV's watershed algorithm, you are able to specify certain parts of an image that are to be merged and count as the same segmentation. This is especially useful when determining the foreground and background of an image.\n",
    "\n",
    "This is a much more involved algorithm than the above thresholding examples but has the ability to produce stronger results. It won't be discussed here, but if you are interested you can follow this [OpenCV Watershed Algorithm](https://docs.opencv.org/master/d3/db4/tutorial_py_watershed.html)"
   ]
  },
  {
   "cell_type": "markdown",
   "metadata": {},
   "source": [
    "### Image Masking\n",
    "\n",
    "Now that you've thresholded your image and have created segments, it can also be useful to put that mask over your original image to single out a specific aspect of the image. This can be used to de-noise an image. This is done using the below method:\n",
    "\n",
    "`cv2.bitwise_and` \n",
    "\n",
    "Example:\n",
    "\n",
    "`maskedImage = cv2.bitwise_and(originalImage, originalImage, mask = mask)`\n",
    "\n",
    "The mask in this case is the threshold outcome with the different segments.\n",
    "\n",
    "A good example can be seen below:"
   ]
  },
  {
   "cell_type": "code",
   "execution_count": 5,
   "metadata": {},
   "outputs": [
    {
     "data": {
      "text/html": [
       "<img src=\"https://cdn.analyticsvidhya.com/wp-content/uploads/2019/02/bitwise_operation.jpg\"/>"
      ],
      "text/plain": [
       "<IPython.core.display.Image object>"
      ]
     },
     "execution_count": 5,
     "metadata": {},
     "output_type": "execute_result"
    }
   ],
   "source": [
    "Image(url='https://cdn.analyticsvidhya.com/wp-content/uploads/2019/02/bitwise_operation.jpg')"
   ]
  },
  {
   "cell_type": "markdown",
   "metadata": {},
   "source": [
    "## Edge Detection"
   ]
  },
  {
   "cell_type": "markdown",
   "metadata": {},
   "source": [
    "Edge detection is the act of finding important discontinuities within an image normally related to depth, material, an lighting changes. Finding edges within an image are important for segmentation applications as well as extracting objects and localizing objects in an image. Another great application is image sharpening which can be done by overlaying edges back onto the same image which can help for segmentation.\n",
    "\n",
    "The math behind edge detection is quite interesting and involves taking the X and Y derivatives of an image (yes thats possible, sounds weird though). If you are interested in the math it is worthwhile exploring, but much like all of the other stuff we have explored, OpenCV has a method for edge detection. OpenCV uses the Canny Edge detection algorithm and has a built in method for it.\n",
    "\n",
    "`edges = cv2.Canny(originalImage, lowerThresh, upperThresh)`\n",
    "\n",
    "The lower and upper thresholds are important for hysteresis analysis and are usually found experimentally. If a gradient value is **higher** than the upper threshold, it counts as an edge. If the gradient is **lower** than the lower value, it is rejected. Usually a 2:1 upper:lower ratio is used.\n"
   ]
  },
  {
   "cell_type": "code",
   "execution_count": 2,
   "metadata": {},
   "outputs": [
    {
     "data": {
      "text/html": [
       "<img src=\"https://docs.opencv.org/3.4/canny1.jpg\"/>"
      ],
      "text/plain": [
       "<IPython.core.display.Image object>"
      ]
     },
     "execution_count": 2,
     "metadata": {},
     "output_type": "execute_result"
    }
   ],
   "source": [
    "Image(url='https://docs.opencv.org/3.4/canny1.jpg')"
   ]
  },
  {
   "cell_type": "markdown",
   "metadata": {},
   "source": [
    "## Image Filtering\n",
    "\n",
    "Depending on your application, it can be useful to smoothen or sharpen images. In the case of edge detection, it is often useful to smoothen an image before applying the algorithm. This may seem counter intuitive, however, it helps eliminate less important edges and allows the algorithm to only extract the important edges. \n",
    "\n",
    "Image filtering can also be used to remove noise from an image. If an image is \"grainy\", filtering can be used to remove the grainyness and keep the important parts of an image.\n",
    "\n",
    "Image Filtering uses what is called a \"kernel\". A kernel is a box that specifies the neighbourhood of pixels that is analyzed each time. Odd values are used (3x3, 5x5...) as a centre pixel is needed. A larger neighbourhood will create a more drastic result. The different OpenCV methods can be seen below\n",
    "\n",
    "`blurredImage = cv2.blur(image, (Y,X))` - Average pixel values, basic blurring\n",
    "\n",
    "`blurredImage = cv2.GaussianBlur(image, (Y,X))` - Guassian blurring\n",
    "\n",
    "`blurredImage = cv2.medianBlur(image, kernelSizeInt)` - Median blur (excellent for removing noise)"
   ]
  },
  {
   "cell_type": "markdown",
   "metadata": {},
   "source": [
    "## Image Contours\n",
    "\n",
    "While at first glance it may seem like image contours are like image edges, contours find specific **closed** contours that encompass a specific object or shape in an image. Contours aren't actually part of an image like edges, they are instead line segments that correspond to shapes in the image. They can be used for image segmentation or object localization.\n",
    "\n",
    "`image, contours, hierarchy = cv2.findContours(image, mode, method)`\n",
    "`imgWithContours = cv2.drawContours(image, contours, int, (B,G,R), thickness)`\n",
    "\n",
    "Firstly, the image contours are found using `cv2.findContours`. The contours are stored in contours, the hierarchy contains topology of the image. The mode is the retreival mode (usually `cv2.RETR_TREE`). The method is the approximation method (usually `cv2.CHAIN_APPROX_SIMPLE`)\n",
    "\n",
    "Next, the contours are drawn on the image using `cv2.drawContours`. The int value is what contour to draw from the list contours. Use -1 to draw all contours. The (B,G,R) triple is the colour of the contour, and the thickness is the thickness of the drawn line."
   ]
  },
  {
   "cell_type": "code",
   "execution_count": 3,
   "metadata": {},
   "outputs": [
    {
     "data": {
      "text/html": [
       "<img src=\"https://cdn.analyticsvidhya.com/wp-content/uploads/2019/02/contours.jpg\"/>"
      ],
      "text/plain": [
       "<IPython.core.display.Image object>"
      ]
     },
     "execution_count": 3,
     "metadata": {},
     "output_type": "execute_result"
    }
   ],
   "source": [
    "Image(url='https://cdn.analyticsvidhya.com/wp-content/uploads/2019/02/contours.jpg')"
   ]
  },
  {
   "cell_type": "markdown",
   "metadata": {},
   "source": [
    "# Closing Remarks\n",
    "\n",
    "OpenCV is an incredibly powerful library and has methods for almost any computer vision application. This notebook only scratches the surface on some of the basics. Somethings not explored in this notebook but may be useful researching is using OpenCV for feature matching within images to compare them. This is more advanced than what was covered in this notebook but can be powerful if done correctly.\n",
    "\n",
    "Hopefully you learned something from this notebook and see how you can use OpenCV in your next computer vision project."
   ]
  },
  {
   "cell_type": "code",
   "execution_count": null,
   "metadata": {},
   "outputs": [],
   "source": []
  }
 ],
 "metadata": {
  "kernelspec": {
   "display_name": "Python 3",
   "language": "python",
   "name": "python3"
  },
  "language_info": {
   "codemirror_mode": {
    "name": "ipython",
    "version": 3
   },
   "file_extension": ".py",
   "mimetype": "text/x-python",
   "name": "python",
   "nbconvert_exporter": "python",
   "pygments_lexer": "ipython3",
   "version": "3.7.6"
  }
 },
 "nbformat": 4,
 "nbformat_minor": 4
}
