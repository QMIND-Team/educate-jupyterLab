{
 "cells": [
  {
   "cell_type": "markdown",
   "metadata": {},
   "source": [
    "<img src=\"../imgs/CampQMIND_banner.png\">"
   ]
  },
  {
   "cell_type": "markdown",
   "metadata": {},
   "source": [
    "# Numpy \n",
    "\n",
    "Numpy is a scientific computing package for python. It introduces a new type of array which speeds up Python array computations through vectorizing loops in C.\n"
   ]
  },
  {
   "cell_type": "markdown",
   "metadata": {
    "toc": true
   },
   "source": [
    "<h1>Table of Contents<span class=\"tocSkip\"></span></h1>\n",
    "<div class=\"toc\"><ul class=\"toc-item\"><li><span><a href=\"#Numpy\" data-toc-modified-id=\"Numpy-1\"><span class=\"toc-item-num\">1&nbsp;&nbsp;</span>Numpy</a></span></li><li><span><a href=\"#Creating-Arrays\" data-toc-modified-id=\"Creating-Arrays-2\"><span class=\"toc-item-num\">2&nbsp;&nbsp;</span>Creating Arrays</a></span></li><li><span><a href=\"#Indexing-Arrays\" data-toc-modified-id=\"Indexing-Arrays-3\"><span class=\"toc-item-num\">3&nbsp;&nbsp;</span>Indexing Arrays</a></span><ul class=\"toc-item\"><li><span><a href=\"#One-dimensional-arrays\" data-toc-modified-id=\"One-dimensional-arrays-3.1\"><span class=\"toc-item-num\">3.1&nbsp;&nbsp;</span>One dimensional arrays</a></span></li><li><span><a href=\"#Multi-dimensional-arrays\" data-toc-modified-id=\"Multi-dimensional-arrays-3.2\"><span class=\"toc-item-num\">3.2&nbsp;&nbsp;</span>Multi dimensional arrays</a></span></li></ul></li><li><span><a href=\"#Numpy-math\" data-toc-modified-id=\"Numpy-math-4\"><span class=\"toc-item-num\">4&nbsp;&nbsp;</span>Numpy math</a></span></li><li><span><a href=\"#Broadcasting\" data-toc-modified-id=\"Broadcasting-5\"><span class=\"toc-item-num\">5&nbsp;&nbsp;</span>Broadcasting</a></span></li><li><span><a href=\"#Numpy-Random\" data-toc-modified-id=\"Numpy-Random-6\"><span class=\"toc-item-num\">6&nbsp;&nbsp;</span>Numpy Random</a></span></li><li><span><a href=\"#Resources\" data-toc-modified-id=\"Resources-7\"><span class=\"toc-item-num\">7&nbsp;&nbsp;</span>Resources</a></span></li></ul></div>"
   ]
  },
  {
   "cell_type": "code",
   "execution_count": 1,
   "metadata": {},
   "outputs": [],
   "source": [
    "import numpy as np"
   ]
  },
  {
   "cell_type": "code",
   "execution_count": 2,
   "metadata": {},
   "outputs": [],
   "source": [
    "from IPython.display import display"
   ]
  },
  {
   "cell_type": "markdown",
   "metadata": {},
   "source": [
    "# Creating Arrays\n",
    "\n",
    "```np.array()``` function takes a list as an input and returns an ndarray with many usefuls methods defined for it.\n",
    "\n",
    "Along with the list you can also choose to provide a dtype argument:\n",
    "- The dtype argument stands for data type and takes the following values:\n",
    "    - \"int8\" to \"int64\"\n",
    "    - \"float16\" to \"float64\"\n",
    "\n"
   ]
  },
  {
   "cell_type": "code",
   "execution_count": 3,
   "metadata": {
    "scrolled": true
   },
   "outputs": [
    {
     "data": {
      "text/plain": [
       "array([1, 2, 3, 4, 5])"
      ]
     },
     "metadata": {},
     "output_type": "display_data"
    },
    {
     "data": {
      "text/plain": [
       "array([1, 2, 3, 4, 5])"
      ]
     },
     "metadata": {},
     "output_type": "display_data"
    },
    {
     "data": {
      "text/plain": [
       "array([1, 2, 3, 4, 5])"
      ]
     },
     "metadata": {},
     "output_type": "display_data"
    }
   ],
   "source": [
    "display(np.array([1,2,3,4,5]))\n",
    "\n",
    "display(np.array(range(1,6)))\n",
    "\n",
    "display(np.arange(1,6))"
   ]
  },
  {
   "cell_type": "code",
   "execution_count": 4,
   "metadata": {},
   "outputs": [
    {
     "data": {
      "text/plain": [
       "array([[1, 1, 1],\n",
       "       [1, 1, 1],\n",
       "       [1, 1, 1]], dtype=int32)"
      ]
     },
     "metadata": {},
     "output_type": "display_data"
    },
    {
     "data": {
      "text/plain": [
       "array([[1, 1, 1],\n",
       "       [1, 1, 1],\n",
       "       [1, 1, 1]], dtype=int8)"
      ]
     },
     "metadata": {},
     "output_type": "display_data"
    },
    {
     "data": {
      "text/plain": [
       "array([[0., 0., 0.],\n",
       "       [0., 0., 0.],\n",
       "       [0., 0., 0.]])"
      ]
     },
     "metadata": {},
     "output_type": "display_data"
    }
   ],
   "source": [
    "# Shape is row x column\n",
    "shape = (3,3) # shape is always a tuple\n",
    "display(np.ones(shape, dtype=np.int32)) # supply dtype to change the datatype\n",
    "# default is np.float\n",
    "# you can also use this to down cast to save memory\n",
    "display(np.ones(shape, dtype=np.int8))\n",
    "\n",
    "# Likewise we can create an array of zeroes.\n",
    "display(np.zeros(shape))"
   ]
  },
  {
   "cell_type": "code",
   "execution_count": 5,
   "metadata": {},
   "outputs": [
    {
     "data": {
      "text/plain": [
       "array([0.  , 0.25, 0.5 , 0.75, 1.  , 1.25, 1.5 , 1.75, 2.  ])"
      ]
     },
     "execution_count": 5,
     "metadata": {},
     "output_type": "execute_result"
    }
   ],
   "source": [
    "# evenly spaced numbers\n",
    "np.linspace( 0, 2, 9 )"
   ]
  },
  {
   "cell_type": "code",
   "execution_count": 6,
   "metadata": {},
   "outputs": [
    {
     "data": {
      "text/plain": [
       "array([[1., 1., 1.],\n",
       "       [1., 1., 1.],\n",
       "       [1., 1., 1.]])"
      ]
     },
     "metadata": {},
     "output_type": "display_data"
    },
    {
     "data": {
      "text/plain": [
       "'To'"
      ]
     },
     "metadata": {},
     "output_type": "display_data"
    },
    {
     "data": {
      "text/plain": [
       "array([[1., 1., 1., 1., 1., 1., 1., 1., 1.]])"
      ]
     },
     "metadata": {},
     "output_type": "display_data"
    },
    {
     "data": {
      "text/plain": [
       "array([[1., 1., 1., 1., 1., 1., 1., 1., 1.]])"
      ]
     },
     "metadata": {},
     "output_type": "display_data"
    }
   ],
   "source": [
    "# Reshaping\n",
    "display(np.ones(shape))\n",
    "display(\"To\")\n",
    "display(np.ones(shape).reshape(1, -1)) # -1 is used to fill\n",
    "display(np.ones(shape).reshape(-1, 9)) # it is the same as this"
   ]
  },
  {
   "cell_type": "markdown",
   "metadata": {},
   "source": [
    "# Indexing Arrays"
   ]
  },
  {
   "cell_type": "markdown",
   "metadata": {},
   "source": [
    "## One dimensional arrays\n",
    "\n",
    "Think of python lists with many useful methods."
   ]
  },
  {
   "cell_type": "code",
   "execution_count": 7,
   "metadata": {},
   "outputs": [
    {
     "data": {
      "text/plain": [
       "array([1, 2, 3, 4, 5, 6])"
      ]
     },
     "metadata": {},
     "output_type": "display_data"
    },
    {
     "data": {
      "text/plain": [
       "array([2, 3])"
      ]
     },
     "metadata": {},
     "output_type": "display_data"
    },
    {
     "data": {
      "text/plain": [
       "array([1, 3, 5])"
      ]
     },
     "metadata": {},
     "output_type": "display_data"
    },
    {
     "data": {
      "text/plain": [
       "array([6, 5, 4, 3, 2, 1])"
      ]
     },
     "metadata": {},
     "output_type": "display_data"
    }
   ],
   "source": [
    "my_1d = np.array([1,2,3,4,5, 6])\n",
    "display(my_1d)\n",
    "\n",
    "# slicing works the same way as regular python lists for 1d arrays\n",
    "\n",
    "display(my_1d[1:3]) # Second and third element\n",
    "\n",
    "display(my_1d[::2]) # Every second element\n",
    "\n",
    "display(my_1d[::-1]) # Reversing\n"
   ]
  },
  {
   "cell_type": "code",
   "execution_count": 8,
   "metadata": {},
   "outputs": [
    {
     "data": {
      "text/plain": [
       "'Original array'"
      ]
     },
     "metadata": {},
     "output_type": "display_data"
    },
    {
     "data": {
      "text/plain": [
       "array([3, 4, 5, 6])"
      ]
     },
     "metadata": {},
     "output_type": "display_data"
    },
    {
     "data": {
      "text/plain": [
       "'Boolean masks'"
      ]
     },
     "metadata": {},
     "output_type": "display_data"
    },
    {
     "data": {
      "text/plain": [
       "array([3, 4, 5, 6])"
      ]
     },
     "metadata": {},
     "output_type": "display_data"
    },
    {
     "data": {
      "text/plain": [
       "'The mask'"
      ]
     },
     "metadata": {},
     "output_type": "display_data"
    },
    {
     "data": {
      "text/plain": [
       "array([False, False,  True,  True,  True,  True])"
      ]
     },
     "metadata": {},
     "output_type": "display_data"
    },
    {
     "data": {
      "text/plain": [
       "'We can make it more complicated by combining logic'"
      ]
     },
     "metadata": {},
     "output_type": "display_data"
    },
    {
     "data": {
      "text/plain": [
       "array([3, 4])"
      ]
     },
     "metadata": {},
     "output_type": "display_data"
    }
   ],
   "source": [
    "display(\"Original array\",my_1d[(my_1d> 2)])\n",
    "\n",
    "display(\"Boolean masks\",my_1d[(my_1d> 2)])\n",
    "\n",
    "display(\"The mask\", (my_1d> 2))\n",
    "\n",
    "display(\"We can make it more complicated by combining logic\", my_1d[(my_1d> 2) & (my_1d < 5)])\n",
    "# Note to use python and you need & here and for or you need |\n",
    "# The difference is and, or only applies to single elements whereas & and | evaluates the whole."
   ]
  },
  {
   "cell_type": "code",
   "execution_count": 9,
   "metadata": {},
   "outputs": [
    {
     "data": {
      "text/plain": [
       "'Original array'"
      ]
     },
     "metadata": {},
     "output_type": "display_data"
    },
    {
     "data": {
      "text/plain": [
       "array([3, 4, 5, 6])"
      ]
     },
     "metadata": {},
     "output_type": "display_data"
    },
    {
     "data": {
      "text/plain": [
       "'Boolean masks'"
      ]
     },
     "metadata": {},
     "output_type": "display_data"
    },
    {
     "data": {
      "text/plain": [
       "array([1, 2])"
      ]
     },
     "metadata": {},
     "output_type": "display_data"
    },
    {
     "data": {
      "text/plain": [
       "'The mask'"
      ]
     },
     "metadata": {},
     "output_type": "display_data"
    },
    {
     "data": {
      "text/plain": [
       "array([False, False, False, False, False, False])"
      ]
     },
     "metadata": {},
     "output_type": "display_data"
    },
    {
     "data": {
      "text/plain": [
       "'We can make it more complicated by combining logic'"
      ]
     },
     "metadata": {},
     "output_type": "display_data"
    },
    {
     "data": {
      "text/plain": [
       "array([1, 2, 5, 6])"
      ]
     },
     "metadata": {},
     "output_type": "display_data"
    }
   ],
   "source": [
    "# We can also change the direction of the operator using ~\n",
    "\n",
    "display(\"Original array\",my_1d[(my_1d> 2)])\n",
    "\n",
    "display(\"Boolean masks\",my_1d[~(my_1d> 2)])\n",
    "\n",
    "display(\"The mask\", (~my_1d> 2))\n",
    "\n",
    "display(\"We can make it more complicated by combining logic\", my_1d[~((my_1d> 2) & (my_1d < 5))])\n",
    "# Note to use python and you need & here and for or you need |"
   ]
  },
  {
   "cell_type": "markdown",
   "metadata": {},
   "source": [
    "## Multi dimensional arrays"
   ]
  },
  {
   "cell_type": "code",
   "execution_count": 10,
   "metadata": {},
   "outputs": [
    {
     "data": {
      "text/plain": [
       "array([[1, 2, 3],\n",
       "       [4, 5, 6]])"
      ]
     },
     "metadata": {},
     "output_type": "display_data"
    },
    {
     "data": {
      "text/plain": [
       "array([1, 2, 3])"
      ]
     },
     "metadata": {},
     "output_type": "display_data"
    },
    {
     "data": {
      "text/plain": [
       "array([1, 4])"
      ]
     },
     "metadata": {},
     "output_type": "display_data"
    },
    {
     "data": {
      "text/plain": [
       "2"
      ]
     },
     "metadata": {},
     "output_type": "display_data"
    }
   ],
   "source": [
    "my_2d = my_1d.reshape(2,-1)\n",
    "display(my_2d)\n",
    "\n",
    "# We can index through rows like so\n",
    "display(my_2d[0])\n",
    "\n",
    "# We can index through columns like so\n",
    "display(my_2d[:,0])\n",
    "\n",
    "# To get the first element of 2nd column\n",
    "display(my_2d[0,1])"
   ]
  },
  {
   "cell_type": "code",
   "execution_count": 11,
   "metadata": {},
   "outputs": [
    {
     "data": {
      "text/plain": [
       "'Original tensor'"
      ]
     },
     "metadata": {},
     "output_type": "display_data"
    },
    {
     "data": {
      "text/plain": [
       "array([[[ 1,  2,  3],\n",
       "        [ 4,  5,  6],\n",
       "        [ 7,  8,  9]],\n",
       "\n",
       "       [[11, 12, 13],\n",
       "        [14, 15, 16],\n",
       "        [17, 18, 19]],\n",
       "\n",
       "       [[21, 22, 23],\n",
       "        [24, 25, 26],\n",
       "        [27, 28, 29]]])"
      ]
     },
     "metadata": {},
     "output_type": "display_data"
    },
    {
     "data": {
      "text/plain": [
       "'First matrix'"
      ]
     },
     "metadata": {},
     "output_type": "display_data"
    },
    {
     "data": {
      "text/plain": [
       "array([[1, 2, 3],\n",
       "       [4, 5, 6],\n",
       "       [7, 8, 9]])"
      ]
     },
     "metadata": {},
     "output_type": "display_data"
    },
    {
     "data": {
      "text/plain": [
       "'0th row of each matrix'"
      ]
     },
     "metadata": {},
     "output_type": "display_data"
    },
    {
     "data": {
      "text/plain": [
       "array([[ 1,  2,  3],\n",
       "       [11, 12, 13],\n",
       "       [21, 22, 23]])"
      ]
     },
     "metadata": {},
     "output_type": "display_data"
    },
    {
     "data": {
      "text/plain": [
       "'0th column of each matrix'"
      ]
     },
     "metadata": {},
     "output_type": "display_data"
    },
    {
     "data": {
      "text/plain": [
       "array([[ 1,  4,  7],\n",
       "       [11, 14, 17],\n",
       "       [21, 24, 27]])"
      ]
     },
     "metadata": {},
     "output_type": "display_data"
    }
   ],
   "source": [
    "# tensors in numpy\n",
    "# This tensor is 3x3x3 (3 3x3 matrices)\n",
    "tensor = np.array([\n",
    "  [[1,2,3],    [4,5,6],    [7,8,9]],\n",
    "  [[11,12,13], [14,15,16], [17,18,19]],\n",
    "  [[21,22,23], [24,25,26], [27,28,29]],\n",
    "  ])\n",
    "display(\"Original tensor\",tensor)\n",
    "# To index through matrices\n",
    "display(\"First matrix\",tensor[0])\n",
    "\n",
    "# To index through 0th row of each matrix\n",
    "display(\"0th row of each matrix\",tensor[:,0])\n",
    "\n",
    "# To index through 0th column of each matrix\n",
    "display(\"0th column of each matrix\",tensor[:,:,0])"
   ]
  },
  {
   "cell_type": "markdown",
   "metadata": {},
   "source": [
    "# Numpy math"
   ]
  },
  {
   "cell_type": "code",
   "execution_count": 12,
   "metadata": {},
   "outputs": [
    {
     "name": "stdout",
     "output_type": "stream",
     "text": [
      "2.16 ms ± 92.2 µs per loop (mean ± std. dev. of 7 runs, 100 loops each)\n",
      "30.6 µs ± 692 ns per loop (mean ± std. dev. of 7 runs, 10000 loops each)\n"
     ]
    }
   ],
   "source": [
    "# Similar to the math module numpy provides common mathematical operations.\n",
    "# The main justification to use numpy is that it is significantly faster because of the way it is written. (see c-bindings)\n",
    "import math\n",
    "\n",
    "%timeit [math.pow(i, 2) for i in range(1,10000)]\n",
    "\n",
    "%timeit np.power(np.arange(1,10000),2)\n",
    "\n",
    "# Thats a lot faster\n",
    "# Also notice how we did not need to put np.power in a list comprehension (a for loop)\n",
    "# this is because numpy apply its functions elementwise.\n",
    "# Numpy applies"
   ]
  },
  {
   "cell_type": "code",
   "execution_count": 13,
   "metadata": {},
   "outputs": [],
   "source": [
    "# We can write a vectorized function as follows\n",
    "import random\n",
    "def greater_than_5(a) -> int:\n",
    "    \"\"\"\n",
    "    Returns 1 if the values is greater than one, zero otherwise\n",
    "    \"\"\"\n",
    "    if a > 5:\n",
    "        return 1\n",
    "    else:\n",
    "        return 0\n",
    "        \n",
    "vec_greater_than_5 = np.vectorize(greater_than_5)\n",
    "random_nums = np.array([random.uniform(1,10) for i in range(1,1000)])"
   ]
  },
  {
   "cell_type": "code",
   "execution_count": 14,
   "metadata": {},
   "outputs": [
    {
     "name": "stdout",
     "output_type": "stream",
     "text": [
      "163 µs ± 1.61 µs per loop (mean ± std. dev. of 7 runs, 10000 loops each)\n"
     ]
    }
   ],
   "source": [
    "# Vectorized\n",
    "%timeit vec_greater_than_5(random_nums)"
   ]
  },
  {
   "cell_type": "code",
   "execution_count": 15,
   "metadata": {},
   "outputs": [
    {
     "name": "stdout",
     "output_type": "stream",
     "text": [
      "446 µs ± 10.4 µs per loop (mean ± std. dev. of 7 runs, 1000 loops each)\n"
     ]
    }
   ],
   "source": [
    "%%timeit\n",
    "# For loop\n",
    "\n",
    "for i,j in enumerate(random_nums):\n",
    "    if j > 5:\n",
    "        random_nums[i] = 1\n",
    "    else:\n",
    "        random_nums[i] = 0"
   ]
  },
  {
   "cell_type": "code",
   "execution_count": 16,
   "metadata": {},
   "outputs": [
    {
     "name": "stdout",
     "output_type": "stream",
     "text": [
      "2.09 µs ± 29.1 ns per loop (mean ± std. dev. of 7 runs, 100000 loops each)\n"
     ]
    }
   ],
   "source": [
    "# With regular numpy conditional indexing\n",
    "%timeit random_nums[random_nums>5]"
   ]
  },
  {
   "cell_type": "code",
   "execution_count": 17,
   "metadata": {},
   "outputs": [
    {
     "data": {
      "text/plain": [
       "'Original array'"
      ]
     },
     "metadata": {},
     "output_type": "display_data"
    },
    {
     "data": {
      "text/plain": [
       "array([[1, 2, 3],\n",
       "       [4, 5, 6]])"
      ]
     },
     "metadata": {},
     "output_type": "display_data"
    },
    {
     "data": {
      "text/plain": [
       "'Shape of array'"
      ]
     },
     "metadata": {},
     "output_type": "display_data"
    },
    {
     "data": {
      "text/plain": [
       "(2, 3)"
      ]
     },
     "metadata": {},
     "output_type": "display_data"
    },
    {
     "data": {
      "text/plain": [
       "'Maximum and minimum'"
      ]
     },
     "metadata": {},
     "output_type": "display_data"
    },
    {
     "data": {
      "text/plain": [
       "6"
      ]
     },
     "metadata": {},
     "output_type": "display_data"
    },
    {
     "data": {
      "text/plain": [
       "1"
      ]
     },
     "metadata": {},
     "output_type": "display_data"
    },
    {
     "data": {
      "text/plain": [
       "'Mean along columns'"
      ]
     },
     "metadata": {},
     "output_type": "display_data"
    },
    {
     "data": {
      "text/plain": [
       "array([2.5, 3.5, 4.5])"
      ]
     },
     "metadata": {},
     "output_type": "display_data"
    },
    {
     "data": {
      "text/plain": [
       "'Mean along rows'"
      ]
     },
     "metadata": {},
     "output_type": "display_data"
    },
    {
     "data": {
      "text/plain": [
       "array([2., 5.])"
      ]
     },
     "metadata": {},
     "output_type": "display_data"
    },
    {
     "data": {
      "text/plain": [
       "'Array as a list'"
      ]
     },
     "metadata": {},
     "output_type": "display_data"
    },
    {
     "data": {
      "text/plain": [
       "[[1, 2, 3], [4, 5, 6]]"
      ]
     },
     "metadata": {},
     "output_type": "display_data"
    }
   ],
   "source": [
    "# Numpy arrays make information about the array readily available\n",
    "display(\"Original array\", my_2d)\n",
    "\n",
    "display(\"Shape of array\", my_2d.shape) # row x column\n",
    "\n",
    "display(\"Maximum and minimum\", my_2d.max(), my_2d.min())\n",
    "\n",
    "display(\"Mean along columns\", my_2d.mean(0))\n",
    "\n",
    "display(\"Mean along rows\", my_2d.mean(1))\n",
    "\n",
    "display(\"Array as a list\", my_2d.tolist())\n",
    "\n",
    "# and many more\n"
   ]
  },
  {
   "cell_type": "markdown",
   "metadata": {},
   "source": [
    "# Broadcasting\n",
    "\n",
    "Numpy works extremely fast by \"broadcasting\" the smaller sized array to the same shape of the bigger array.\n",
    "\n",
    "This results in two things:\n",
    "- The operations are faster than regular python because the looping occurs in C and not python.\n",
    "- Different sized arrays can be used together if their shapes match."
   ]
  },
  {
   "cell_type": "code",
   "execution_count": 1,
   "metadata": {},
   "outputs": [
    {
     "ename": "NameError",
     "evalue": "name 'my_1d' is not defined",
     "output_type": "error",
     "traceback": [
      "\u001b[0;31m---------------------------------------------------------------------------\u001b[0m",
      "\u001b[0;31mNameError\u001b[0m                                 Traceback (most recent call last)",
      "\u001b[0;32m<ipython-input-1-96b82e807d11>\u001b[0m in \u001b[0;36m<module>\u001b[0;34m\u001b[0m\n\u001b[0;32m----> 1\u001b[0;31m \u001b[0mdisplay\u001b[0m\u001b[0;34m(\u001b[0m\u001b[0;34m\"Original Array\"\u001b[0m\u001b[0;34m,\u001b[0m\u001b[0mmy_1d\u001b[0m\u001b[0;34m)\u001b[0m\u001b[0;34m\u001b[0m\u001b[0;34m\u001b[0m\u001b[0m\n\u001b[0m\u001b[1;32m      2\u001b[0m \u001b[0;34m\u001b[0m\u001b[0m\n\u001b[1;32m      3\u001b[0m \u001b[0;31m# Behind the scenes numpy broadcasts that one to match the shape of the array.\u001b[0m\u001b[0;34m\u001b[0m\u001b[0;34m\u001b[0m\u001b[0;34m\u001b[0m\u001b[0m\n\u001b[1;32m      4\u001b[0m \u001b[0mdisplay\u001b[0m\u001b[0;34m(\u001b[0m\u001b[0;34m\"Original Array + 1\"\u001b[0m\u001b[0;34m,\u001b[0m\u001b[0mmy_1d\u001b[0m \u001b[0;34m+\u001b[0m \u001b[0;36m1\u001b[0m\u001b[0;34m)\u001b[0m\u001b[0;34m\u001b[0m\u001b[0;34m\u001b[0m\u001b[0m\n\u001b[1;32m      5\u001b[0m \u001b[0;34m\u001b[0m\u001b[0m\n",
      "\u001b[0;31mNameError\u001b[0m: name 'my_1d' is not defined"
     ]
    }
   ],
   "source": [
    "display(\"Original Array\",my_1d)\n",
    "\n",
    "# Behind the scenes numpy broadcasts that one to match the shape of the array.\n",
    "display(\"Original Array + 1\",my_1d + 1)\n",
    "\n",
    "[1, 2, 3, 4, 5, 6] + 1 # Doesn't work in lists"
   ]
  },
  {
   "cell_type": "code",
   "execution_count": 19,
   "metadata": {},
   "outputs": [
    {
     "data": {
      "text/plain": [
       "'Original Array'"
      ]
     },
     "metadata": {},
     "output_type": "display_data"
    },
    {
     "data": {
      "text/plain": [
       "array([[1, 2, 3],\n",
       "       [4, 5, 6]])"
      ]
     },
     "metadata": {},
     "output_type": "display_data"
    },
    {
     "data": {
      "text/plain": [
       "'Original Array + 1'"
      ]
     },
     "metadata": {},
     "output_type": "display_data"
    },
    {
     "data": {
      "text/plain": [
       "array([[2, 3, 4],\n",
       "       [5, 6, 7]])"
      ]
     },
     "metadata": {},
     "output_type": "display_data"
    }
   ],
   "source": [
    "display(\"Original Array\",my_2d)\n",
    "\n",
    "# Behind the scenes numpy broadcasts that one to match the shape of the array.\n",
    "display(\"Original Array + 1\",my_2d + 1)"
   ]
  },
  {
   "cell_type": "markdown",
   "metadata": {},
   "source": [
    "# Numpy Random"
   ]
  },
  {
   "cell_type": "code",
   "execution_count": 20,
   "metadata": {},
   "outputs": [
    {
     "data": {
      "text/plain": [
       "array([[4, 0, 3, 3, 3]])"
      ]
     },
     "metadata": {},
     "output_type": "display_data"
    },
    {
     "data": {
      "text/plain": [
       "array([[ 0.37025538,  1.04053075, -1.51698273, -0.86627621, -0.05503512]])"
      ]
     },
     "metadata": {},
     "output_type": "display_data"
    },
    {
     "data": {
      "text/plain": [
       "array([5, 1, 4, 3, 2])"
      ]
     },
     "metadata": {},
     "output_type": "display_data"
    }
   ],
   "source": [
    "# The usage of numpy.random is very similar to random.random\n",
    "np.random.seed(0) # setting the seed for reproduceable results.\n",
    "\n",
    "# one key difference is numpy optionally takes size as an argument\n",
    "display(np.random.randint(0, 5, size = (1,5)))\n",
    "\n",
    "display(np.random.normal(size = (1,5)))\n",
    "\n",
    "a = [1, 2, 3, 4, 5]\n",
    "\n",
    "# np.random.shuffle() # inplace operator to shuffle elements\n",
    "\n",
    "display(np.random.permutation(a)) # returns a shuffled copy"
   ]
  },
  {
   "cell_type": "markdown",
   "metadata": {},
   "source": [
    "# Resources\n",
    "\n",
    "https://www.labri.fr/perso/nrougier/from-python-to-numpy/ For an in-depth exploration of numpy\n",
    "\n",
    "https://www.machinelearningplus.com/python/101-numpy-exercises-python/ To challenge yourself "
   ]
  },
  {
   "cell_type": "code",
   "execution_count": null,
   "metadata": {},
   "outputs": [],
   "source": []
  }
 ],
 "metadata": {
  "kernelspec": {
   "display_name": "Python 3",
   "language": "python",
   "name": "python3"
  },
  "language_info": {
   "codemirror_mode": {
    "name": "ipython",
    "version": 3
   },
   "file_extension": ".py",
   "mimetype": "text/x-python",
   "name": "python",
   "nbconvert_exporter": "python",
   "pygments_lexer": "ipython3",
   "version": "3.7.5"
  },
  "toc": {
   "base_numbering": 1,
   "nav_menu": {},
   "number_sections": true,
   "sideBar": true,
   "skip_h1_title": false,
   "title_cell": "Table of Contents",
   "title_sidebar": "Contents",
   "toc_cell": true,
   "toc_position": {},
   "toc_section_display": true,
   "toc_window_display": true
  }
 },
 "nbformat": 4,
 "nbformat_minor": 4
}
