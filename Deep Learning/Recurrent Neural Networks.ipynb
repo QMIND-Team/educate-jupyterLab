{
 "cells": [
  {
   "cell_type": "markdown",
   "metadata": {},
   "source": [
    "<img src=\"../imgs/CampQMIND_banner.png\">"
   ]
  },
  {
   "cell_type": "markdown",
   "metadata": {},
   "source": [
    "### Introduction to Recurrent Neural Networks\n",
    "Author: David Huang\n",
    "\n",
    "\n",
    "Recurrent neural networks are a class of artificial neural networks, derived from vanilla feedforward networks, that are especially powerful for modeling sequence data such as time series or natural language. The power of the recurrent neural network lies in it's hidden state (h), where at any time t, the hidden layer receives input from both $x_{t}$ and $h_{t-1}$. This is better shown in this diagram: \n",
    "<img src=\"../imgs/RNNunfold.png\">\n",
    "Thus the hidden state acts as a sort of memory from previous timesteps that is fedfoward and updated with each time step.\n"
   ]
  },
  {
   "cell_type": "markdown",
   "metadata": {
    "toc": true
   },
   "source": [
    "<h1>Table of Contents<span class=\"tocSkip\"></span></h1>\n",
    "<div class=\"toc\"><ul class=\"toc-item\"><li><span><a href=\"#Introduction-to-Recurrent-Neural-Networks\" data-toc-modified-id=\"Introduction-to-Recurrent-Neural-Networks-1\"><span class=\"toc-item-num\">1&nbsp;&nbsp;</span>Introduction to Recurrent Neural Networks</a></span></li><li><span><a href=\"#Underlying-Math\" data-toc-modified-id=\"Underlying-Math-2\"><span class=\"toc-item-num\">2&nbsp;&nbsp;</span>Underlying Math</a></span></li><li><span><a href=\"#Videos-/-Additional-Resources\" data-toc-modified-id=\"Videos-/-Additional-Resources-3\"><span class=\"toc-item-num\">3&nbsp;&nbsp;</span>Videos / Additional Resources</a></span></li><li><span><a href=\"#Backpropagation-through-time\" data-toc-modified-id=\"Backpropagation-through-time-4\"><span class=\"toc-item-num\">4&nbsp;&nbsp;</span>Backpropagation through time</a></span></li><li><span><a href=\"#Minimal-character-Implementation\" data-toc-modified-id=\"Minimal-character-Implementation-5\"><span class=\"toc-item-num\">5&nbsp;&nbsp;</span>Minimal character Implementation</a></span></li><li><span><a href=\"#The-Exploding-and-Vanishing-Gradients-problem\" data-toc-modified-id=\"The-Exploding-and-Vanishing-Gradients-problem-6\"><span class=\"toc-item-num\">6&nbsp;&nbsp;</span>The Exploding and Vanishing Gradients problem</a></span></li><li><span><a href=\"#Simple-RNN-implementation-using-Keras\" data-toc-modified-id=\"Simple-RNN-implementation-using-Keras-7\"><span class=\"toc-item-num\">7&nbsp;&nbsp;</span>Simple RNN implementation using Keras</a></span></li></ul></div>"
   ]
  },
  {
   "cell_type": "markdown",
   "metadata": {},
   "source": [
    "### Underlying Math\n",
    "The general formula for each hidden state at time t is given by: \n",
    "\n",
    "$$h_{t} = f_{W}(h_{t-1},x_{t})$$\n",
    "\n",
    "Given each input has a weight matrix, the formula can be expanded to: \n",
    "\n",
    "$$h_{t} = tanh(W_{hh}h_{t-1}+ W_{xh}x_{t})$$\n",
    "\n",
    "Where the products of $h_{t-1}$, $x_{t}$ and their weight matrices $W_{hh}$, $W_{hx}$ respectively are combined using a tanh nonlinearity. To create an output ($y_{t}$) the hidden start is multiplied by another weight matrix $W_{hy}$:\n",
    "\n",
    "$$y_{t} = W_{hy}h_{t}$$"
   ]
  },
  {
   "cell_type": "markdown",
   "metadata": {},
   "source": [
    "### Videos / Additional Resources\n",
    "Here are some additional resources you made find useful:\n",
    "\n",
    "**towards data science** beginner guide to RNN: https://towardsdatascience.com/the-most-intuitive-and-easiest-guide-for-recurrent-neural-network-873c29da73c7\n",
    "\n",
    "**DeepLearning.TV** Provides a great short video on RNNs (video 1):\n",
    "\n",
    "**Stanford University** provides an excellent video on the structure of RNN and RNN applications (video 2):\n",
    "\n",
    "**Andrej Karpathy**'s is a great resource that expands on the content presented in the lecture and includes example implementation: http://karpathy.github.io/2015/05/21/rnn-effectiveness/"
   ]
  },
  {
   "cell_type": "code",
   "execution_count": 1,
   "metadata": {},
   "outputs": [
    {
     "data": {
      "text/html": [
       "\n",
       "        <iframe\n",
       "            width=\"560\"\n",
       "            height=\"315\"\n",
       "            src=\"https://www.youtube.com/embed/_aCuOwF1ZjU\"\n",
       "            frameborder=\"0\"\n",
       "            allowfullscreen\n",
       "        ></iframe>\n",
       "        "
      ],
      "text/plain": [
       "<IPython.lib.display.IFrame at 0x7fab76726650>"
      ]
     },
     "execution_count": 1,
     "metadata": {},
     "output_type": "execute_result"
    }
   ],
   "source": [
    "from IPython.display import IFrame\n",
    "IFrame('https://www.youtube.com/embed/_aCuOwF1ZjU',560,315)"
   ]
  },
  {
   "cell_type": "code",
   "execution_count": 2,
   "metadata": {},
   "outputs": [
    {
     "data": {
      "text/html": [
       "\n",
       "        <iframe\n",
       "            width=\"560\"\n",
       "            height=\"315\"\n",
       "            src=\"https://www.youtube.com/embed/6niqTuYFZLQ?start=528\"\n",
       "            frameborder=\"0\"\n",
       "            allowfullscreen\n",
       "        ></iframe>\n",
       "        "
      ],
      "text/plain": [
       "<IPython.lib.display.IFrame at 0x7fab7674c510>"
      ]
     },
     "execution_count": 2,
     "metadata": {},
     "output_type": "execute_result"
    }
   ],
   "source": [
    "IFrame('https://www.youtube.com/embed/6niqTuYFZLQ?start=528',560,315)"
   ]
  },
  {
   "cell_type": "markdown",
   "metadata": {},
   "source": [
    "### Backpropagation through time\n",
    "Backpropagation for RNNs is referred to as backpropagation through time (BPTT). This is because we consider each forward pass as stepping foward in time, while backpropagation would be stepping back in time.\n",
    "<img src=\"../imgs/BPTT.png\" alt=\"Drawing\" style=\"width: 600px;\"/>\n",
    "However, considering that most RNN problems require large series data sizes conventional, BPTT would be too slow as each gradient step would require one full forward and reverse pass through the data. Instead we use truncated BPTT where we run through the sequence as a series of chunks with a gradient step being calculated after each chunk. This method carries the hidden state forward while only backpropagating through a smaller number of steps.\n",
    "<img src=\"../imgs/BPTT2.png\" alt=\"Drawing\" style=\"width: 400px;\"/>\n"
   ]
  },
  {
   "cell_type": "markdown",
   "metadata": {},
   "source": [
    "### Minimal character Implementation\n",
    "Basic RNN implementation is not difficult and can be written in only 112 lines of code using only numpy. \n",
    "\n",
    "However, using a basic implementation of RNN is __not practical__ and so the following example should be used only as reference to deepen your understanding on the implementation of the theory above. \n",
    "\n",
    "The following code is provided by Andrej Karpathy."
   ]
  },
  {
   "cell_type": "markdown",
   "metadata": {},
   "source": [
    "```python\n",
    "\"\"\"\n",
    "Minimal character-level Vanilla RNN model. Written by Andrej Karpathy (@karpathy)\n",
    "BSD License\n",
    "\"\"\"\n",
    "import numpy as np\n",
    "\n",
    "# data I/O\n",
    "data = open('input.txt', 'r').read() # should be simple plain text file\n",
    "chars = list(set(data))\n",
    "data_size, vocab_size = len(data), len(chars)\n",
    "print =('data has %d characters, %d unique.' % (data_size, vocab_size))\n",
    "char_to_ix = { ch:i for i,ch in enumerate(chars) }\n",
    "ix_to_char = { i:ch for i,ch in enumerate(chars) }\n",
    "\n",
    "# hyperparameters\n",
    "hidden_size = 100 # size of hidden layer of neurons\n",
    "seq_length = 25 # number of steps to unroll the RNN for\n",
    "learning_rate = 1e-1\n",
    "\n",
    "# model parameters\n",
    "Wxh = np.random.randn(hidden_size, vocab_size)*0.01 # input to hidden\n",
    "Whh = np.random.randn(hidden_size, hidden_size)*0.01 # hidden to hidden\n",
    "Why = np.random.randn(vocab_size, hidden_size)*0.01 # hidden to output\n",
    "bh = np.zeros((hidden_size, 1)) # hidden bias\n",
    "by = np.zeros((vocab_size, 1)) # output bias\n",
    "\n",
    "def lossFun(inputs, targets, hprev):\n",
    "  \"\"\"\n",
    "  inputs,targets are both list of integers.\n",
    "  hprev is Hx1 array of initial hidden state\n",
    "  returns the loss, gradients on model parameters, and last hidden state\n",
    "  \"\"\"\n",
    "  xs, hs, ys, ps = {}, {}, {}, {}\n",
    "  hs[-1] = np.copy(hprev)\n",
    "  loss = 0\n",
    "  # forward pass\n",
    "  for t in xrange(len(inputs)):\n",
    "    xs[t] = np.zeros((vocab_size,1)) # encode in 1-of-k representation\n",
    "    xs[t][inputs[t]] = 1\n",
    "    hs[t] = np.tanh(np.dot(Wxh, xs[t]) + np.dot(Whh, hs[t-1]) + bh) # hidden state\n",
    "    ys[t] = np.dot(Why, hs[t]) + by # unnormalized log probabilities for next chars\n",
    "    ps[t] = np.exp(ys[t]) / np.sum(np.exp(ys[t])) # probabilities for next chars\n",
    "    loss += -np.log(ps[t][targets[t],0]) # softmax (cross-entropy loss)\n",
    "  # backward pass: compute gradients going backwards\n",
    "  dWxh, dWhh, dWhy = np.zeros_like(Wxh), np.zeros_like(Whh), np.zeros_like(Why)\n",
    "  dbh, dby = np.zeros_like(bh), np.zeros_like(by)\n",
    "  dhnext = np.zeros_like(hs[0])\n",
    "  for t in reversed(xrange(len(inputs))):\n",
    "    dy = np.copy(ps[t])\n",
    "    dy[targets[t]] -= 1 # backprop into y. see http://cs231n.github.io/neural-networks-case-study/#grad if confused here\n",
    "    dWhy += np.dot(dy, hs[t].T)\n",
    "    dby += dy\n",
    "    dh = np.dot(Why.T, dy) + dhnext # backprop into h\n",
    "    dhraw = (1 - hs[t] * hs[t]) * dh # backprop through tanh nonlinearity\n",
    "    dbh += dhraw\n",
    "    dWxh += np.dot(dhraw, xs[t].T)\n",
    "    dWhh += np.dot(dhraw, hs[t-1].T)\n",
    "    dhnext = np.dot(Whh.T, dhraw)\n",
    "  for dparam in [dWxh, dWhh, dWhy, dbh, dby]:\n",
    "    np.clip(dparam, -5, 5, out=dparam) # clip to mitigate exploding gradients\n",
    "  return loss, dWxh, dWhh, dWhy, dbh, dby, hs[len(inputs)-1]\n",
    "\n",
    "def sample(h, seed_ix, n):\n",
    "  \"\"\" \n",
    "  sample a sequence of integers from the model \n",
    "  h is memory state, seed_ix is seed letter for first time step\n",
    "  \"\"\"\n",
    "  x = np.zeros((vocab_size, 1))\n",
    "  x[seed_ix] = 1\n",
    "  ixes = []\n",
    "  for t in xrange(n):\n",
    "    h = np.tanh(np.dot(Wxh, x) + np.dot(Whh, h) + bh)\n",
    "    y = np.dot(Why, h) + by\n",
    "    p = np.exp(y) / np.sum(np.exp(y))\n",
    "    ix = np.random.choice(range(vocab_size), p=p.ravel())\n",
    "    x = np.zeros((vocab_size, 1))\n",
    "    x[ix] = 1\n",
    "    ixes.append(ix)\n",
    "  return ixes\n",
    "\n",
    "n, p = 0, 0\n",
    "mWxh, mWhh, mWhy = np.zeros_like(Wxh), np.zeros_like(Whh), np.zeros_like(Why)\n",
    "mbh, mby = np.zeros_like(bh), np.zeros_like(by) # memory variables for Adagrad\n",
    "smooth_loss = -np.log(1.0/vocab_size)*seq_length # loss at iteration 0\n",
    "while True:\n",
    "  # prepare inputs (we're sweeping from left to right in steps seq_length long)\n",
    "  if p+seq_length+1 >= len(data) or n == 0: \n",
    "    hprev = np.zeros((hidden_size,1)) # reset RNN memory\n",
    "    p = 0 # go from start of data\n",
    "  inputs = [char_to_ix[ch] for ch in data[p:p+seq_length]]\n",
    "  targets = [char_to_ix[ch] for ch in data[p+1:p+seq_length+1]]\n",
    "\n",
    "  # sample from the model now and then\n",
    "  if n % 100 == 0:\n",
    "    sample_ix = sample(hprev, inputs[0], 200)\n",
    "    txt = ''.join(ix_to_char[ix] for ix in sample_ix)\n",
    "    print('----\\n %s \\n----' % (txt, ))\n",
    "\n",
    "  # forward seq_length characters through the net and fetch gradient\n",
    "  loss, dWxh, dWhh, dWhy, dbh, dby, hprev = lossFun(inputs, targets, hprev)\n",
    "  smooth_loss = smooth_loss * 0.999 + loss * 0.001\n",
    "  if n % 100 == 0: print('iter %d, loss: %f' % (n, smooth_loss)) # print progress\n",
    "  \n",
    "  # perform parameter update with Adagrad\n",
    "  for param, dparam, mem in zip([Wxh, Whh, Why, bh, by], \n",
    "                                [dWxh, dWhh, dWhy, dbh, dby], \n",
    "                                [mWxh, mWhh, mWhy, mbh, mby]):\n",
    "    mem += dparam * dparam\n",
    "    param += -learning_rate * dparam / np.sqrt(mem + 1e-8) # adagrad update\n",
    "\n",
    "  p += seq_length # move data pointer\n",
    "  n += 1 # iteration counter \n",
    " ```"
   ]
  },
  {
   "cell_type": "markdown",
   "metadata": {},
   "source": [
    "### The Exploding and Vanishing Gradients problem\n",
    "Without diving to deeply into the mathematics, backpropagation involves adjusting each weight matrix using a gradient. This gradient is caclulated by the continuous multiplcation of derivatives at each time step. \n",
    "This recurrent multiplication leads to the exploding or vanishing gradient problem. Each gradient computation step in the gradient flow of RNNs involves the multiplication of the transpose of our weight matrix ($W_{hh}$). \n",
    "\n",
    "If we think of these weight matrices as scalar values, then the continuous multiplcation of any value greater than 1 will lead to an exploding gradient, while the continuous multiplcation of any value less than 1 will vanish the gradient towards 0. Therefore the usefullness of RNNs decreases with increasing series length. \n",
    "\n",
    "Thus modified RNN architectures such as, long short term memory (LSTM) and gated recurrent unit (GRU), have been developed to combat this problem and are go-to architectures for developers when implemeneting RNN models. \n",
    "\n",
    "For more information on LSTM and GRU architecture and implementation see the notebook created by Michael Olson."
   ]
  },
  {
   "cell_type": "markdown",
   "metadata": {},
   "source": [
    "### Simple RNN implementation using Keras\n",
    "However, if you are curious as to how you would implement a simple RNN model using Keras, you can follow the example below. \n",
    "\n",
    "Depending on the initial weight matrix, this demonstration can serve as an example of the power of RNN architectures or it will be a great demonstration of the exploding / vanishing gradient problem. \n",
    "\n",
    "Regardless, when developing a model using RNN architecture, once again, you should be using LSTMs or GRUs."
   ]
  },
  {
   "cell_type": "code",
   "execution_count": 1,
   "metadata": {},
   "outputs": [
    {
     "name": "stdout",
     "output_type": "stream",
     "text": [
      "Populating the interactive namespace from numpy and matplotlib\n"
     ]
    }
   ],
   "source": [
    "%pylab inline\n",
    "\n",
    "import math\n",
    "\n",
    "# For this demonstration we will be predicting the values of a sin wave.\n",
    "sin_wave = np.array([math.sin(x) for x in np.arange(200)])"
   ]
  },
  {
   "cell_type": "code",
   "execution_count": 3,
   "metadata": {},
   "outputs": [],
   "source": [
    "# Create our training data\n",
    "X = []\n",
    "Y = []\n",
    "\n",
    "seq_len = 50\n",
    "num_records = len(sin_wave) - seq_len\n",
    "\n",
    "for i in range(num_records - 50):\n",
    "    X.append(sin_wave[i:i+seq_len])\n",
    "    Y.append(sin_wave[i+seq_len])\n",
    "    \n",
    "X = np.array(X)\n",
    "X = np.expand_dims(X, axis=2)\n",
    "\n",
    "Y = np.array(Y)\n",
    "Y = np.expand_dims(Y, axis=1)"
   ]
  },
  {
   "cell_type": "code",
   "execution_count": 4,
   "metadata": {},
   "outputs": [
    {
     "data": {
      "text/plain": [
       "((100, 50, 1), (100, 1))"
      ]
     },
     "execution_count": 4,
     "metadata": {},
     "output_type": "execute_result"
    }
   ],
   "source": [
    "# Shape of our data\n",
    "X.shape, Y.shape"
   ]
  },
  {
   "cell_type": "code",
   "execution_count": 5,
   "metadata": {},
   "outputs": [],
   "source": [
    "# Create validation data\n",
    "X_val = []\n",
    "Y_val = []\n",
    "\n",
    "for i in range(num_records - 50, num_records):\n",
    "    X_val.append(sin_wave[i:i+seq_len])\n",
    "    Y_val.append(sin_wave[i+seq_len])\n",
    "    \n",
    "X_val = np.array(X_val)\n",
    "X_val = np.expand_dims(X_val, axis=2)\n",
    "\n",
    "Y_val = np.array(Y_val)\n",
    "Y_val = np.expand_dims(Y_val, axis=1)"
   ]
  },
  {
   "cell_type": "code",
   "execution_count": 6,
   "metadata": {},
   "outputs": [],
   "source": [
    "# Required libraries\n",
    "import numpy as np\n",
    "import tensorflow as tf\n",
    "from tensorflow import keras\n",
    "from tensorflow.keras import layers"
   ]
  },
  {
   "cell_type": "code",
   "execution_count": 7,
   "metadata": {},
   "outputs": [
    {
     "name": "stdout",
     "output_type": "stream",
     "text": [
      "Model: \"sequential\"\n",
      "_________________________________________________________________\n",
      "Layer (type)                 Output Shape              Param #   \n",
      "=================================================================\n",
      "simple_rnn (SimpleRNN)       (None, 1)                 3         \n",
      "=================================================================\n",
      "Total params: 3\n",
      "Trainable params: 3\n",
      "Non-trainable params: 0\n",
      "_________________________________________________________________\n"
     ]
    }
   ],
   "source": [
    "# Let's create a basic model for demonstration purposes\n",
    "model = keras.models.Sequential()\n",
    "simple_rnn_layer = layers.SimpleRNN((1), batch_input_shape=(None,50,1),return_sequences=False)\n",
    "model.add(simple_rnn_layer)\n",
    "model.compile(loss='mean_absolute_error', optimizer='adam', metrics=['accuracy'])\n",
    "model.summary()"
   ]
  },
  {
   "cell_type": "code",
   "execution_count": 13,
   "metadata": {},
   "outputs": [
    {
     "name": "stdout",
     "output_type": "stream",
     "text": [
      "Epoch 1/100\n",
      "4/4 [==============================] - 0s 17ms/step - loss: 0.5178 - accuracy: 0.0000e+00 - val_loss: 0.5191 - val_accuracy: 0.0000e+00\n",
      "Epoch 2/100\n",
      "4/4 [==============================] - 0s 10ms/step - loss: 0.5069 - accuracy: 0.0000e+00 - val_loss: 0.5056 - val_accuracy: 0.0000e+00\n",
      "Epoch 3/100\n",
      "4/4 [==============================] - 0s 11ms/step - loss: 0.4970 - accuracy: 0.0000e+00 - val_loss: 0.5018 - val_accuracy: 0.0000e+00\n",
      "Epoch 4/100\n",
      "4/4 [==============================] - 0s 11ms/step - loss: 0.4886 - accuracy: 0.0000e+00 - val_loss: 0.4957 - val_accuracy: 0.0000e+00\n",
      "Epoch 5/100\n",
      "4/4 [==============================] - 0s 11ms/step - loss: 0.4807 - accuracy: 0.0000e+00 - val_loss: 0.4891 - val_accuracy: 0.0000e+00\n",
      "Epoch 6/100\n",
      "4/4 [==============================] - 0s 9ms/step - loss: 0.4738 - accuracy: 0.0000e+00 - val_loss: 0.4827 - val_accuracy: 0.0000e+00\n",
      "Epoch 7/100\n",
      "4/4 [==============================] - 0s 10ms/step - loss: 0.4670 - accuracy: 0.0000e+00 - val_loss: 0.4769 - val_accuracy: 0.0000e+00\n",
      "Epoch 8/100\n",
      "4/4 [==============================] - 0s 15ms/step - loss: 0.4607 - accuracy: 0.0000e+00 - val_loss: 0.4708 - val_accuracy: 0.0000e+00\n",
      "Epoch 9/100\n",
      "4/4 [==============================] - 0s 9ms/step - loss: 0.4539 - accuracy: 0.0000e+00 - val_loss: 0.4649 - val_accuracy: 0.0000e+00\n",
      "Epoch 10/100\n",
      "4/4 [==============================] - 0s 10ms/step - loss: 0.4480 - accuracy: 0.0000e+00 - val_loss: 0.4593 - val_accuracy: 0.0000e+00\n",
      "Epoch 11/100\n",
      "4/4 [==============================] - 0s 9ms/step - loss: 0.4419 - accuracy: 0.0000e+00 - val_loss: 0.4543 - val_accuracy: 0.0000e+00\n",
      "Epoch 12/100\n",
      "4/4 [==============================] - 0s 10ms/step - loss: 0.4355 - accuracy: 0.0000e+00 - val_loss: 0.4494 - val_accuracy: 0.0000e+00\n",
      "Epoch 13/100\n",
      "4/4 [==============================] - 0s 10ms/step - loss: 0.4300 - accuracy: 0.0000e+00 - val_loss: 0.4445 - val_accuracy: 0.0000e+00\n",
      "Epoch 14/100\n",
      "4/4 [==============================] - 0s 11ms/step - loss: 0.4245 - accuracy: 0.0000e+00 - val_loss: 0.4399 - val_accuracy: 0.0000e+00\n",
      "Epoch 15/100\n",
      "4/4 [==============================] - 0s 12ms/step - loss: 0.4193 - accuracy: 0.0000e+00 - val_loss: 0.4356 - val_accuracy: 0.0000e+00\n",
      "Epoch 16/100\n",
      "4/4 [==============================] - 0s 10ms/step - loss: 0.4149 - accuracy: 0.0000e+00 - val_loss: 0.4316 - val_accuracy: 0.0000e+00\n",
      "Epoch 17/100\n",
      "4/4 [==============================] - 0s 10ms/step - loss: 0.4110 - accuracy: 0.0000e+00 - val_loss: 0.4279 - val_accuracy: 0.0000e+00\n",
      "Epoch 18/100\n",
      "4/4 [==============================] - 0s 11ms/step - loss: 0.4074 - accuracy: 0.0000e+00 - val_loss: 0.4244 - val_accuracy: 0.0000e+00\n",
      "Epoch 19/100\n",
      "4/4 [==============================] - 0s 13ms/step - loss: 0.4041 - accuracy: 0.0000e+00 - val_loss: 0.4210 - val_accuracy: 0.0000e+00\n",
      "Epoch 20/100\n",
      "4/4 [==============================] - 0s 9ms/step - loss: 0.4013 - accuracy: 0.0000e+00 - val_loss: 0.4176 - val_accuracy: 0.0000e+00\n",
      "Epoch 21/100\n",
      "4/4 [==============================] - 0s 9ms/step - loss: 0.3983 - accuracy: 0.0000e+00 - val_loss: 0.4146 - val_accuracy: 0.0000e+00\n",
      "Epoch 22/100\n",
      "4/4 [==============================] - 0s 9ms/step - loss: 0.3956 - accuracy: 0.0000e+00 - val_loss: 0.4117 - val_accuracy: 0.0000e+00\n",
      "Epoch 23/100\n",
      "4/4 [==============================] - 0s 10ms/step - loss: 0.3932 - accuracy: 0.0000e+00 - val_loss: 0.4089 - val_accuracy: 0.0000e+00\n",
      "Epoch 24/100\n",
      "4/4 [==============================] - 0s 11ms/step - loss: 0.3909 - accuracy: 0.0000e+00 - val_loss: 0.4065 - val_accuracy: 0.0000e+00\n",
      "Epoch 25/100\n",
      "4/4 [==============================] - 0s 9ms/step - loss: 0.3887 - accuracy: 0.0000e+00 - val_loss: 0.4040 - val_accuracy: 0.0000e+00\n",
      "Epoch 26/100\n",
      "4/4 [==============================] - 0s 9ms/step - loss: 0.3864 - accuracy: 0.0000e+00 - val_loss: 0.4015 - val_accuracy: 0.0000e+00\n",
      "Epoch 27/100\n",
      "4/4 [==============================] - 0s 10ms/step - loss: 0.3841 - accuracy: 0.0000e+00 - val_loss: 0.3991 - val_accuracy: 0.0000e+00\n",
      "Epoch 28/100\n",
      "4/4 [==============================] - 0s 10ms/step - loss: 0.3816 - accuracy: 0.0000e+00 - val_loss: 0.3967 - val_accuracy: 0.0000e+00\n",
      "Epoch 29/100\n",
      "4/4 [==============================] - 0s 10ms/step - loss: 0.3794 - accuracy: 0.0000e+00 - val_loss: 0.3944 - val_accuracy: 0.0000e+00\n",
      "Epoch 30/100\n",
      "4/4 [==============================] - 0s 9ms/step - loss: 0.3771 - accuracy: 0.0000e+00 - val_loss: 0.3921 - val_accuracy: 0.0000e+00\n",
      "Epoch 31/100\n",
      "4/4 [==============================] - 0s 10ms/step - loss: 0.3749 - accuracy: 0.0000e+00 - val_loss: 0.3899 - val_accuracy: 0.0000e+00\n",
      "Epoch 32/100\n",
      "4/4 [==============================] - 0s 12ms/step - loss: 0.3727 - accuracy: 0.0000e+00 - val_loss: 0.3880 - val_accuracy: 0.0000e+00\n",
      "Epoch 33/100\n",
      "4/4 [==============================] - 0s 10ms/step - loss: 0.3708 - accuracy: 0.0000e+00 - val_loss: 0.3861 - val_accuracy: 0.0000e+00\n",
      "Epoch 34/100\n",
      "4/4 [==============================] - 0s 10ms/step - loss: 0.3690 - accuracy: 0.0000e+00 - val_loss: 0.3840 - val_accuracy: 0.0000e+00\n",
      "Epoch 35/100\n",
      "4/4 [==============================] - 0s 10ms/step - loss: 0.3668 - accuracy: 0.0000e+00 - val_loss: 0.3821 - val_accuracy: 0.0000e+00\n",
      "Epoch 36/100\n",
      "4/4 [==============================] - 0s 10ms/step - loss: 0.3648 - accuracy: 0.0000e+00 - val_loss: 0.3801 - val_accuracy: 0.0000e+00\n",
      "Epoch 37/100\n",
      "4/4 [==============================] - 0s 9ms/step - loss: 0.3629 - accuracy: 0.0000e+00 - val_loss: 0.3781 - val_accuracy: 0.0000e+00\n",
      "Epoch 38/100\n",
      "4/4 [==============================] - 0s 10ms/step - loss: 0.3608 - accuracy: 0.0000e+00 - val_loss: 0.3764 - val_accuracy: 0.0000e+00\n",
      "Epoch 39/100\n",
      "4/4 [==============================] - 0s 10ms/step - loss: 0.3588 - accuracy: 0.0000e+00 - val_loss: 0.3748 - val_accuracy: 0.0000e+00\n",
      "Epoch 40/100\n",
      "4/4 [==============================] - 0s 17ms/step - loss: 0.3570 - accuracy: 0.0000e+00 - val_loss: 0.3733 - val_accuracy: 0.0000e+00\n",
      "Epoch 41/100\n",
      "4/4 [==============================] - 0s 11ms/step - loss: 0.3552 - accuracy: 0.0000e+00 - val_loss: 0.3717 - val_accuracy: 0.0000e+00\n",
      "Epoch 42/100\n",
      "4/4 [==============================] - 0s 10ms/step - loss: 0.3534 - accuracy: 0.0000e+00 - val_loss: 0.3703 - val_accuracy: 0.0000e+00\n",
      "Epoch 43/100\n",
      "4/4 [==============================] - 0s 10ms/step - loss: 0.3517 - accuracy: 0.0000e+00 - val_loss: 0.3690 - val_accuracy: 0.0000e+00\n",
      "Epoch 44/100\n",
      "4/4 [==============================] - 0s 10ms/step - loss: 0.3501 - accuracy: 0.0000e+00 - val_loss: 0.3675 - val_accuracy: 0.0000e+00\n",
      "Epoch 45/100\n",
      "4/4 [==============================] - 0s 11ms/step - loss: 0.3484 - accuracy: 0.0000e+00 - val_loss: 0.3659 - val_accuracy: 0.0000e+00\n",
      "Epoch 46/100\n",
      "4/4 [==============================] - 0s 11ms/step - loss: 0.3467 - accuracy: 0.0000e+00 - val_loss: 0.3644 - val_accuracy: 0.0000e+00\n",
      "Epoch 47/100\n",
      "4/4 [==============================] - 0s 15ms/step - loss: 0.3451 - accuracy: 0.0000e+00 - val_loss: 0.3630 - val_accuracy: 0.0000e+00\n",
      "Epoch 48/100\n",
      "4/4 [==============================] - 0s 11ms/step - loss: 0.3437 - accuracy: 0.0000e+00 - val_loss: 0.3617 - val_accuracy: 0.0000e+00\n",
      "Epoch 49/100\n",
      "4/4 [==============================] - 0s 9ms/step - loss: 0.3424 - accuracy: 0.0000e+00 - val_loss: 0.3604 - val_accuracy: 0.0000e+00\n",
      "Epoch 50/100\n",
      "4/4 [==============================] - 0s 9ms/step - loss: 0.3410 - accuracy: 0.0000e+00 - val_loss: 0.3592 - val_accuracy: 0.0000e+00\n",
      "Epoch 51/100\n",
      "4/4 [==============================] - 0s 10ms/step - loss: 0.3399 - accuracy: 0.0000e+00 - val_loss: 0.3579 - val_accuracy: 0.0000e+00\n",
      "Epoch 52/100\n",
      "4/4 [==============================] - 0s 8ms/step - loss: 0.3385 - accuracy: 0.0000e+00 - val_loss: 0.3567 - val_accuracy: 0.0000e+00\n",
      "Epoch 53/100\n",
      "4/4 [==============================] - 0s 8ms/step - loss: 0.3374 - accuracy: 0.0000e+00 - val_loss: 0.3553 - val_accuracy: 0.0000e+00\n",
      "Epoch 54/100\n",
      "4/4 [==============================] - 0s 9ms/step - loss: 0.3363 - accuracy: 0.0000e+00 - val_loss: 0.3541 - val_accuracy: 0.0000e+00\n",
      "Epoch 55/100\n",
      "4/4 [==============================] - 0s 8ms/step - loss: 0.3352 - accuracy: 0.0000e+00 - val_loss: 0.3529 - val_accuracy: 0.0000e+00\n",
      "Epoch 56/100\n",
      "4/4 [==============================] - 0s 9ms/step - loss: 0.3341 - accuracy: 0.0000e+00 - val_loss: 0.3517 - val_accuracy: 0.0000e+00\n",
      "Epoch 57/100\n",
      "4/4 [==============================] - 0s 8ms/step - loss: 0.3331 - accuracy: 0.0000e+00 - val_loss: 0.3505 - val_accuracy: 0.0000e+00\n",
      "Epoch 58/100\n",
      "4/4 [==============================] - 0s 8ms/step - loss: 0.3322 - accuracy: 0.0000e+00 - val_loss: 0.3493 - val_accuracy: 0.0000e+00\n",
      "Epoch 59/100\n",
      "4/4 [==============================] - 0s 8ms/step - loss: 0.3312 - accuracy: 0.0000e+00 - val_loss: 0.3483 - val_accuracy: 0.0000e+00\n",
      "Epoch 60/100\n",
      "4/4 [==============================] - 0s 8ms/step - loss: 0.3304 - accuracy: 0.0000e+00 - val_loss: 0.3473 - val_accuracy: 0.0000e+00\n",
      "Epoch 61/100\n",
      "4/4 [==============================] - 0s 8ms/step - loss: 0.3296 - accuracy: 0.0000e+00 - val_loss: 0.3463 - val_accuracy: 0.0000e+00\n",
      "Epoch 62/100\n",
      "4/4 [==============================] - 0s 9ms/step - loss: 0.3288 - accuracy: 0.0000e+00 - val_loss: 0.3453 - val_accuracy: 0.0000e+00\n",
      "Epoch 63/100\n",
      "4/4 [==============================] - 0s 9ms/step - loss: 0.3281 - accuracy: 0.0000e+00 - val_loss: 0.3444 - val_accuracy: 0.0000e+00\n",
      "Epoch 64/100\n",
      "4/4 [==============================] - 0s 9ms/step - loss: 0.3274 - accuracy: 0.0000e+00 - val_loss: 0.3434 - val_accuracy: 0.0000e+00\n",
      "Epoch 65/100\n",
      "4/4 [==============================] - 0s 11ms/step - loss: 0.3266 - accuracy: 0.0000e+00 - val_loss: 0.3424 - val_accuracy: 0.0000e+00\n",
      "Epoch 66/100\n",
      "4/4 [==============================] - 0s 13ms/step - loss: 0.3259 - accuracy: 0.0000e+00 - val_loss: 0.3416 - val_accuracy: 0.0000e+00\n",
      "Epoch 67/100\n",
      "4/4 [==============================] - 0s 14ms/step - loss: 0.3253 - accuracy: 0.0000e+00 - val_loss: 0.3408 - val_accuracy: 0.0000e+00\n",
      "Epoch 68/100\n",
      "4/4 [==============================] - 0s 10ms/step - loss: 0.3246 - accuracy: 0.0000e+00 - val_loss: 0.3399 - val_accuracy: 0.0000e+00\n",
      "Epoch 69/100\n",
      "4/4 [==============================] - 0s 10ms/step - loss: 0.3241 - accuracy: 0.0000e+00 - val_loss: 0.3390 - val_accuracy: 0.0000e+00\n",
      "Epoch 70/100\n",
      "4/4 [==============================] - 0s 9ms/step - loss: 0.3233 - accuracy: 0.0000e+00 - val_loss: 0.3383 - val_accuracy: 0.0000e+00\n",
      "Epoch 71/100\n",
      "4/4 [==============================] - 0s 8ms/step - loss: 0.3227 - accuracy: 0.0000e+00 - val_loss: 0.3374 - val_accuracy: 0.0000e+00\n",
      "Epoch 72/100\n",
      "4/4 [==============================] - 0s 8ms/step - loss: 0.3221 - accuracy: 0.0000e+00 - val_loss: 0.3364 - val_accuracy: 0.0000e+00\n",
      "Epoch 73/100\n",
      "4/4 [==============================] - 0s 8ms/step - loss: 0.3214 - accuracy: 0.0000e+00 - val_loss: 0.3355 - val_accuracy: 0.0000e+00\n",
      "Epoch 74/100\n",
      "4/4 [==============================] - 0s 8ms/step - loss: 0.3208 - accuracy: 0.0000e+00 - val_loss: 0.3348 - val_accuracy: 0.0000e+00\n",
      "Epoch 75/100\n",
      "4/4 [==============================] - 0s 9ms/step - loss: 0.3202 - accuracy: 0.0000e+00 - val_loss: 0.3340 - val_accuracy: 0.0000e+00\n",
      "Epoch 76/100\n",
      "4/4 [==============================] - ETA: 0s - loss: 0.2995 - accuracy: 0.0000e+ - 0s 8ms/step - loss: 0.3196 - accuracy: 0.0000e+00 - val_loss: 0.3332 - val_accuracy: 0.0000e+00\n",
      "Epoch 77/100\n",
      "4/4 [==============================] - 0s 8ms/step - loss: 0.3190 - accuracy: 0.0000e+00 - val_loss: 0.3325 - val_accuracy: 0.0000e+00\n",
      "Epoch 78/100\n",
      "4/4 [==============================] - 0s 8ms/step - loss: 0.3184 - accuracy: 0.0000e+00 - val_loss: 0.3320 - val_accuracy: 0.0000e+00\n",
      "Epoch 79/100\n",
      "4/4 [==============================] - 0s 8ms/step - loss: 0.3179 - accuracy: 0.0000e+00 - val_loss: 0.3314 - val_accuracy: 0.0000e+00\n",
      "Epoch 80/100\n",
      "4/4 [==============================] - 0s 8ms/step - loss: 0.3174 - accuracy: 0.0000e+00 - val_loss: 0.3307 - val_accuracy: 0.0000e+00\n",
      "Epoch 81/100\n",
      "4/4 [==============================] - 0s 9ms/step - loss: 0.3168 - accuracy: 0.0000e+00 - val_loss: 0.3300 - val_accuracy: 0.0000e+00\n",
      "Epoch 82/100\n",
      "4/4 [==============================] - 0s 9ms/step - loss: 0.3162 - accuracy: 0.0000e+00 - val_loss: 0.3293 - val_accuracy: 0.0000e+00\n",
      "Epoch 83/100\n",
      "4/4 [==============================] - 0s 9ms/step - loss: 0.3156 - accuracy: 0.0000e+00 - val_loss: 0.3286 - val_accuracy: 0.0000e+00\n",
      "Epoch 84/100\n",
      "4/4 [==============================] - 0s 10ms/step - loss: 0.3150 - accuracy: 0.0000e+00 - val_loss: 0.3281 - val_accuracy: 0.0000e+00\n",
      "Epoch 85/100\n",
      "4/4 [==============================] - 0s 8ms/step - loss: 0.3146 - accuracy: 0.0000e+00 - val_loss: 0.3276 - val_accuracy: 0.0000e+00\n",
      "Epoch 86/100\n",
      "4/4 [==============================] - 0s 8ms/step - loss: 0.3141 - accuracy: 0.0000e+00 - val_loss: 0.3271 - val_accuracy: 0.0000e+00\n",
      "Epoch 87/100\n",
      "4/4 [==============================] - 0s 9ms/step - loss: 0.3137 - accuracy: 0.0000e+00 - val_loss: 0.3266 - val_accuracy: 0.0000e+00\n",
      "Epoch 88/100\n",
      "4/4 [==============================] - 0s 8ms/step - loss: 0.3133 - accuracy: 0.0000e+00 - val_loss: 0.3262 - val_accuracy: 0.0000e+00\n",
      "Epoch 89/100\n",
      "4/4 [==============================] - 0s 11ms/step - loss: 0.3128 - accuracy: 0.0000e+00 - val_loss: 0.3258 - val_accuracy: 0.0000e+00\n",
      "Epoch 90/100\n",
      "4/4 [==============================] - 0s 10ms/step - loss: 0.3122 - accuracy: 0.0000e+00 - val_loss: 0.3253 - val_accuracy: 0.0000e+00\n",
      "Epoch 91/100\n",
      "4/4 [==============================] - 0s 10ms/step - loss: 0.3117 - accuracy: 0.0000e+00 - val_loss: 0.3248 - val_accuracy: 0.0000e+00\n",
      "Epoch 92/100\n",
      "4/4 [==============================] - 0s 11ms/step - loss: 0.3111 - accuracy: 0.0000e+00 - val_loss: 0.3244 - val_accuracy: 0.0000e+00\n",
      "Epoch 93/100\n",
      "4/4 [==============================] - 0s 10ms/step - loss: 0.3106 - accuracy: 0.0000e+00 - val_loss: 0.3240 - val_accuracy: 0.0000e+00\n",
      "Epoch 94/100\n",
      "4/4 [==============================] - 0s 11ms/step - loss: 0.3102 - accuracy: 0.0000e+00 - val_loss: 0.3235 - val_accuracy: 0.0000e+00\n",
      "Epoch 95/100\n",
      "4/4 [==============================] - 0s 11ms/step - loss: 0.3096 - accuracy: 0.0000e+00 - val_loss: 0.3231 - val_accuracy: 0.0000e+00\n",
      "Epoch 96/100\n",
      "4/4 [==============================] - 0s 11ms/step - loss: 0.3090 - accuracy: 0.0000e+00 - val_loss: 0.3227 - val_accuracy: 0.0000e+00\n",
      "Epoch 97/100\n",
      "4/4 [==============================] - 0s 11ms/step - loss: 0.3086 - accuracy: 0.0000e+00 - val_loss: 0.3223 - val_accuracy: 0.0000e+00\n",
      "Epoch 98/100\n",
      "4/4 [==============================] - 0s 12ms/step - loss: 0.3083 - accuracy: 0.0000e+00 - val_loss: 0.3219 - val_accuracy: 0.0000e+00\n",
      "Epoch 99/100\n",
      "4/4 [==============================] - 0s 9ms/step - loss: 0.3078 - accuracy: 0.0000e+00 - val_loss: 0.3215 - val_accuracy: 0.0000e+00\n",
      "Epoch 100/100\n",
      "4/4 [==============================] - 0s 8ms/step - loss: 0.3075 - accuracy: 0.0000e+00 - val_loss: 0.3211 - val_accuracy: 0.0000e+00\n"
     ]
    }
   ],
   "source": [
    "# Train the model\n",
    "history = model.fit(X,Y,epochs=100,validation_data=(X_val,Y_val))"
   ]
  },
  {
   "cell_type": "code",
   "execution_count": 14,
   "metadata": {},
   "outputs": [],
   "source": [
    "# Lets some predictions\n",
    "results = model.predict(X_val)"
   ]
  },
  {
   "cell_type": "code",
   "execution_count": 15,
   "metadata": {},
   "outputs": [
    {
     "data": {
      "image/png": "[encoded data removed]",
      "text/plain": [
       "<Figure size 432x288 with 1 Axes>"
      ]
     },
     "metadata": {
      "needs_background": "light"
     },
     "output_type": "display_data"
    }
   ],
   "source": [
    "# Plot the results\n",
    "plt.plot(results,c='r')\n",
    "plt.plot(Y_val, c='g')\n",
    "plt.show()"
   ]
  },
  {
   "cell_type": "code",
   "execution_count": 16,
   "metadata": {},
   "outputs": [
    {
     "data": {
      "image/png": "[encoded data removed]",
      "text/plain": [
       "<Figure size 432x288 with 1 Axes>"
      ]
     },
     "metadata": {
      "needs_background": "light"
     },
     "output_type": "display_data"
    }
   ],
   "source": [
    "# Plot loss\n",
    "plt.plot(history.history['loss'])\n",
    "plt.show() # If the loss is still going on linearly for the last epoch continue training the model by further training the model with more epochs."
   ]
  }
 ],
 "metadata": {
  "kernelspec": {
   "display_name": "Python 3",
   "language": "python",
   "name": "python3"
  },
  "language_info": {
   "codemirror_mode": {
    "name": "ipython",
    "version": 3
   },
   "file_extension": ".py",
   "mimetype": "text/x-python",
   "name": "python",
   "nbconvert_exporter": "python",
   "pygments_lexer": "ipython3",
   "version": "3.7.5"
  },
  "toc": {
   "base_numbering": 1,
   "nav_menu": {},
   "number_sections": true,
   "sideBar": true,
   "skip_h1_title": false,
   "title_cell": "Table of Contents",
   "title_sidebar": "Contents",
   "toc_cell": true,
   "toc_position": {
    "height": "765px",
    "left": "154px",
    "top": "110px",
    "width": "220px"
   },
   "toc_section_display": false,
   "toc_window_display": false
  }
 },
 "nbformat": 4,
 "nbformat_minor": 2
}
