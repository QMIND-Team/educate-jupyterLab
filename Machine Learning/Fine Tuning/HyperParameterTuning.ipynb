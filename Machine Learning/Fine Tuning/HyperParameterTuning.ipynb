{
 "cells": [
  {
   "cell_type": "markdown",
   "metadata": {},
   "source": [
    "<img src=\"../../imgs/CampQMIND_banner.png\">"
   ]
  },
  {
   "cell_type": "markdown",
   "metadata": {},
   "source": [
    "# Hyperparameter Tuning\n",
    "\n",
    "Author: [Umur Gokalp](https://github.com/uGokalp)\n",
    "\n",
    "Some of the parameters of the models are not learned. We call these parameters \"hyperparameters\". These hyperparameters include the regularization terms (l1, l2), C and the kernel in support-vector machines and most parameters of tree based models. \n",
    "\n",
    "Though sklearn's standard parameters are usually enough, you can expect to see an increase in accuracy by 1-5% in most cases."
   ]
  },
  {
   "cell_type": "markdown",
   "metadata": {
    "toc": true
   },
   "source": [
    "<h1>Table of Contents<span class=\"tocSkip\"></span></h1>\n",
    "<div class=\"toc\"><ul class=\"toc-item\"><li><span><a href=\"#Hyperparameter-Tuning\" data-toc-modified-id=\"Hyperparameter-Tuning-1\"><span class=\"toc-item-num\">1&nbsp;&nbsp;</span>Hyperparameter Tuning</a></span><ul class=\"toc-item\"><li><span><a href=\"#The-General-Idea\" data-toc-modified-id=\"The-General-Idea-1.1\"><span class=\"toc-item-num\">1.1&nbsp;&nbsp;</span>The General Idea</a></span></li><li><span><a href=\"#A-Primer-of-Cross-Validation\" data-toc-modified-id=\"A-Primer-of-Cross-Validation-1.2\"><span class=\"toc-item-num\">1.2&nbsp;&nbsp;</span>A Primer of Cross Validation</a></span></li></ul></li><li><span><a href=\"#Sklearn-GridSearchCV\" data-toc-modified-id=\"Sklearn-GridSearchCV-2\"><span class=\"toc-item-num\">2&nbsp;&nbsp;</span>Sklearn GridSearchCV</a></span><ul class=\"toc-item\"><li><span><a href=\"#Parameter-Grid-for-GridSearchCV\" data-toc-modified-id=\"Parameter-Grid-for-GridSearchCV-2.1\"><span class=\"toc-item-num\">2.1&nbsp;&nbsp;</span>Parameter Grid for GridSearchCV</a></span></li><li><span><a href=\"#Making-a-scorer\" data-toc-modified-id=\"Making-a-scorer-2.2\"><span class=\"toc-item-num\">2.2&nbsp;&nbsp;</span>Making a scorer</a></span></li></ul></li><li><span><a href=\"#GridSearchCV-in-Action\" data-toc-modified-id=\"GridSearchCV-in-Action-3\"><span class=\"toc-item-num\">3&nbsp;&nbsp;</span>GridSearchCV in Action</a></span></li><li><span><a href=\"#Sklearn-RandomizedSearchCV\" data-toc-modified-id=\"Sklearn-RandomizedSearchCV-4\"><span class=\"toc-item-num\">4&nbsp;&nbsp;</span>Sklearn RandomizedSearchCV</a></span></li><li><span><a href=\"#RandomizedSearchCV-in-action\" data-toc-modified-id=\"RandomizedSearchCV-in-action-5\"><span class=\"toc-item-num\">5&nbsp;&nbsp;</span>RandomizedSearchCV in action</a></span></li><li><span><a href=\"#Resources\" data-toc-modified-id=\"Resources-6\"><span class=\"toc-item-num\">6&nbsp;&nbsp;</span>Resources</a></span></li></ul></div>"
   ]
  },
  {
   "cell_type": "markdown",
   "metadata": {},
   "source": [
    "## The General Idea\n",
    "\n",
    "You have:\n",
    "- A model\n",
    "- A loss function to optimize\n",
    "- A set of parameters to optimize\n",
    "\n",
    "You need:\n",
    "- A parameter space\n",
    "\n",
    "You can:\n",
    "- Run an exhaustive search on all possible combinations of parameter values and test against the loss function\n",
    "- Run a random search on some combinations of parameter values and test against the loss function\n",
    "\n",
    "\n",
    "It's common to cross-validate the results of each model produced from the grid search. A set of parameters chosen strictly on one part of the dataset can cause a model to overfit."
   ]
  },
  {
   "cell_type": "markdown",
   "metadata": {},
   "source": [
    "## A Primer of Cross Validation"
   ]
  },
  {
   "cell_type": "markdown",
   "metadata": {},
   "source": [
    "![](https://garthtarr.github.io/avfs/lectures/imgs/k_fold_cv.jpg)"
   ]
  },
  {
   "cell_type": "markdown",
   "metadata": {},
   "source": [
    "# Sklearn GridSearchCV\n",
    "\n",
    "```python\n",
    "from sklearn.model_selection import GridSearchCV\n",
    "\n",
    "GridSearchCV(estimator, param_grid, scoring=None, n_jobs=None, cv=None)\n",
    "```\n",
    "__estimator:__ A sklearn estimator/model that has the methods fit and predict\n",
    "\n",
    "__param_grid:__ A dictionary of parameters\n",
    "\n",
    "__scoring:__ Either a string such as 'f1', 'roc_auc' or a scorer function\n",
    "\n",
    "__cv:__ Either an ```int``` specifying the number of folds for cross validation or a specific cross validation function such as StratifiedKfoldSplit\n",
    "\n",
    "__n_jobs:__ The number of CPU cores you are willing use. -1 is for all available CPUs\n",
    "\n",
    "\n",
    "\n",
    "\n",
    "more on scoring strings: https://scikit-learn.org/stable/modules/model_evaluation.html#scoring-parameter\n",
    "\n"
   ]
  },
  {
   "cell_type": "markdown",
   "metadata": {},
   "source": [
    "## Parameter Grid for GridSearchCV\n",
    "\n",
    "For an exhaustive search, explicitly define which values the model should evaluate. The keys must share the same name as the arguments to the model."
   ]
  },
  {
   "cell_type": "code",
   "execution_count": 16,
   "metadata": {},
   "outputs": [
    {
     "data": {
      "text/plain": [
       "{'C': [0.1, 1, 10, 100],\n",
       " 'gamma': [1, 0.1, 0.01, 0.001],\n",
       " 'kernel': ['rbf', 'poly', 'sigmoid']}"
      ]
     },
     "execution_count": 16,
     "metadata": {},
     "output_type": "execute_result"
    }
   ],
   "source": [
    "{\n",
    "    'C': [0.1,1, 10, 100],\n",
    "    'gamma': [1,0.1,0.01,0.001],\n",
    "    'kernel': ['rbf', 'poly', 'sigmoid']\n",
    "}"
   ]
  },
  {
   "cell_type": "markdown",
   "metadata": {},
   "source": [
    "## Making a scorer\n",
    "\n",
    "```python\n",
    "from sklearn.metrics import make_scorer\n",
    "\n",
    "make_scorer(score_func, greater_is_better=True, needs_proba=False)\n",
    "```\n",
    "\n",
    "The arguments:\n",
    "- score_func: a function that takes y and the prediction as arguments\n",
    "- greater_is_better: Helpful boolean to distinguish between minimizing and maximizing\n",
    "- needs_proba: Helpful boolean to define functions that use probabilities. E.g. negative logarithmic loss\n"
   ]
  },
  {
   "cell_type": "markdown",
   "metadata": {},
   "source": [
    "# GridSearchCV in Action"
   ]
  },
  {
   "cell_type": "code",
   "execution_count": 22,
   "metadata": {},
   "outputs": [],
   "source": [
    "from seaborn import load_dataset\n",
    "from sklearn.model_selection import GridSearchCV, StratifiedKFold\n",
    "from sklearn.svm import SVC\n",
    "import pandas as pd\n",
    "import warnings\n",
    "warnings.filterwarnings(\"ignore\")"
   ]
  },
  {
   "cell_type": "code",
   "execution_count": 23,
   "metadata": {},
   "outputs": [],
   "source": [
    "params = {\n",
    "    'C': [0.1,100],\n",
    "    'gamma': [1,0.1,0.001],\n",
    "    'kernel': ['rbf', 'poly','linear'],\n",
    "    'degree': [3, 5 ]\n",
    "}"
   ]
  },
  {
   "cell_type": "code",
   "execution_count": 24,
   "metadata": {},
   "outputs": [
    {
     "data": {
      "text/html": [
       "<div>\n",
       "<style scoped>\n",
       "    .dataframe tbody tr th:only-of-type {\n",
       "        vertical-align: middle;\n",
       "    }\n",
       "\n",
       "    .dataframe tbody tr th {\n",
       "        vertical-align: top;\n",
       "    }\n",
       "\n",
       "    .dataframe thead th {\n",
       "        text-align: right;\n",
       "    }\n",
       "</style>\n",
       "<table border=\"1\" class=\"dataframe\">\n",
       "  <thead>\n",
       "    <tr style=\"text-align: right;\">\n",
       "      <th></th>\n",
       "      <th>survived</th>\n",
       "      <th>age</th>\n",
       "      <th>fare</th>\n",
       "      <th>pclass_1</th>\n",
       "      <th>pclass_2</th>\n",
       "      <th>pclass_3</th>\n",
       "      <th>sex_female</th>\n",
       "      <th>sex_male</th>\n",
       "      <th>sibsp_0</th>\n",
       "      <th>sibsp_1</th>\n",
       "      <th>...</th>\n",
       "      <th>deck_C</th>\n",
       "      <th>deck_D</th>\n",
       "      <th>deck_E</th>\n",
       "      <th>deck_F</th>\n",
       "      <th>deck_G</th>\n",
       "      <th>embark_town_Cherbourg</th>\n",
       "      <th>embark_town_Queenstown</th>\n",
       "      <th>embark_town_Southampton</th>\n",
       "      <th>alone_False</th>\n",
       "      <th>alone_True</th>\n",
       "    </tr>\n",
       "  </thead>\n",
       "  <tbody>\n",
       "    <tr>\n",
       "      <th>0</th>\n",
       "      <td>0</td>\n",
       "      <td>22.0</td>\n",
       "      <td>7.2500</td>\n",
       "      <td>0</td>\n",
       "      <td>0</td>\n",
       "      <td>1</td>\n",
       "      <td>0</td>\n",
       "      <td>1</td>\n",
       "      <td>0</td>\n",
       "      <td>1</td>\n",
       "      <td>...</td>\n",
       "      <td>0</td>\n",
       "      <td>0</td>\n",
       "      <td>0</td>\n",
       "      <td>0</td>\n",
       "      <td>0</td>\n",
       "      <td>0</td>\n",
       "      <td>0</td>\n",
       "      <td>1</td>\n",
       "      <td>1</td>\n",
       "      <td>0</td>\n",
       "    </tr>\n",
       "    <tr>\n",
       "      <th>1</th>\n",
       "      <td>1</td>\n",
       "      <td>38.0</td>\n",
       "      <td>71.2833</td>\n",
       "      <td>1</td>\n",
       "      <td>0</td>\n",
       "      <td>0</td>\n",
       "      <td>1</td>\n",
       "      <td>0</td>\n",
       "      <td>0</td>\n",
       "      <td>1</td>\n",
       "      <td>...</td>\n",
       "      <td>1</td>\n",
       "      <td>0</td>\n",
       "      <td>0</td>\n",
       "      <td>0</td>\n",
       "      <td>0</td>\n",
       "      <td>1</td>\n",
       "      <td>0</td>\n",
       "      <td>0</td>\n",
       "      <td>1</td>\n",
       "      <td>0</td>\n",
       "    </tr>\n",
       "    <tr>\n",
       "      <th>2</th>\n",
       "      <td>1</td>\n",
       "      <td>26.0</td>\n",
       "      <td>7.9250</td>\n",
       "      <td>0</td>\n",
       "      <td>0</td>\n",
       "      <td>1</td>\n",
       "      <td>1</td>\n",
       "      <td>0</td>\n",
       "      <td>1</td>\n",
       "      <td>0</td>\n",
       "      <td>...</td>\n",
       "      <td>0</td>\n",
       "      <td>0</td>\n",
       "      <td>0</td>\n",
       "      <td>0</td>\n",
       "      <td>0</td>\n",
       "      <td>0</td>\n",
       "      <td>0</td>\n",
       "      <td>1</td>\n",
       "      <td>0</td>\n",
       "      <td>1</td>\n",
       "    </tr>\n",
       "    <tr>\n",
       "      <th>3</th>\n",
       "      <td>1</td>\n",
       "      <td>35.0</td>\n",
       "      <td>53.1000</td>\n",
       "      <td>1</td>\n",
       "      <td>0</td>\n",
       "      <td>0</td>\n",
       "      <td>1</td>\n",
       "      <td>0</td>\n",
       "      <td>0</td>\n",
       "      <td>1</td>\n",
       "      <td>...</td>\n",
       "      <td>1</td>\n",
       "      <td>0</td>\n",
       "      <td>0</td>\n",
       "      <td>0</td>\n",
       "      <td>0</td>\n",
       "      <td>0</td>\n",
       "      <td>0</td>\n",
       "      <td>1</td>\n",
       "      <td>1</td>\n",
       "      <td>0</td>\n",
       "    </tr>\n",
       "    <tr>\n",
       "      <th>4</th>\n",
       "      <td>0</td>\n",
       "      <td>35.0</td>\n",
       "      <td>8.0500</td>\n",
       "      <td>0</td>\n",
       "      <td>0</td>\n",
       "      <td>1</td>\n",
       "      <td>0</td>\n",
       "      <td>1</td>\n",
       "      <td>1</td>\n",
       "      <td>0</td>\n",
       "      <td>...</td>\n",
       "      <td>0</td>\n",
       "      <td>0</td>\n",
       "      <td>0</td>\n",
       "      <td>0</td>\n",
       "      <td>0</td>\n",
       "      <td>0</td>\n",
       "      <td>0</td>\n",
       "      <td>1</td>\n",
       "      <td>0</td>\n",
       "      <td>1</td>\n",
       "    </tr>\n",
       "  </tbody>\n",
       "</table>\n",
       "<p>5 rows × 34 columns</p>\n",
       "</div>"
      ],
      "text/plain": [
       "   survived   age     fare  pclass_1  pclass_2  pclass_3  sex_female  \\\n",
       "0         0  22.0   7.2500         0         0         1           0   \n",
       "1         1  38.0  71.2833         1         0         0           1   \n",
       "2         1  26.0   7.9250         0         0         1           1   \n",
       "3         1  35.0  53.1000         1         0         0           1   \n",
       "4         0  35.0   8.0500         0         0         1           0   \n",
       "\n",
       "   sex_male  sibsp_0  sibsp_1  ...  deck_C  deck_D  deck_E  deck_F  deck_G  \\\n",
       "0         1        0        1  ...       0       0       0       0       0   \n",
       "1         0        0        1  ...       1       0       0       0       0   \n",
       "2         0        1        0  ...       0       0       0       0       0   \n",
       "3         0        0        1  ...       1       0       0       0       0   \n",
       "4         1        1        0  ...       0       0       0       0       0   \n",
       "\n",
       "   embark_town_Cherbourg  embark_town_Queenstown  embark_town_Southampton  \\\n",
       "0                      0                       0                        1   \n",
       "1                      1                       0                        0   \n",
       "2                      0                       0                        1   \n",
       "3                      0                       0                        1   \n",
       "4                      0                       0                        1   \n",
       "\n",
       "   alone_False  alone_True  \n",
       "0            1           0  \n",
       "1            1           0  \n",
       "2            0           1  \n",
       "3            1           0  \n",
       "4            0           1  \n",
       "\n",
       "[5 rows x 34 columns]"
      ]
     },
     "execution_count": 24,
     "metadata": {},
     "output_type": "execute_result"
    }
   ],
   "source": [
    "data = load_dataset('titanic').drop([\"alive\",\"adult_male\",\"who\",\"class\",'embarked'],axis=1)\n",
    "hot_cols = ['pclass','sex','sibsp','parch','deck','embark_town','alone']\n",
    "df = pd.get_dummies(data,columns=hot_cols)\n",
    "df.fillna(df.median(),inplace=True)\n",
    "df.head()"
   ]
  },
  {
   "cell_type": "code",
   "execution_count": 25,
   "metadata": {},
   "outputs": [
    {
     "name": "stdout",
     "output_type": "stream",
     "text": [
      "Fitting 3 folds for each of 36 candidates, totalling 108 fits\n"
     ]
    },
    {
     "name": "stderr",
     "output_type": "stream",
     "text": [
      "[Parallel(n_jobs=-1)]: Using backend LokyBackend with 8 concurrent workers.\n",
      "[Parallel(n_jobs=-1)]: Done  25 tasks      | elapsed:    3.6s\n"
     ]
    },
    {
     "name": "stdout",
     "output_type": "stream",
     "text": [
      "Best params are {'C': 100, 'degree': 3, 'gamma': 0.001, 'kernel': 'rbf'}\n",
      "Best score is 0.7912457912457912\n"
     ]
    },
    {
     "name": "stderr",
     "output_type": "stream",
     "text": [
      "[Parallel(n_jobs=-1)]: Done 108 out of 108 | elapsed:    8.5s finished\n"
     ]
    }
   ],
   "source": [
    "# Note you should grid search on your validation set and evaluate the result of grid search on a holdout set.\n",
    "# In total you would need to divide your dataset in to at least 3 (Train, Validation, Holdout).\n",
    "grid = GridSearchCV(estimator=SVC(max_iter=100000),param_grid=params,cv=StratifiedKFold(3), verbose =2, n_jobs=-1)\n",
    "# What I'm doing here is for illustrative purposes only , this is not standard practice.\n",
    "grid.fit(df.drop(\"survived\",axis=1), df.survived) \n",
    "print(f\"Best params are {grid.best_params_}\")\n",
    "print(f\"Best score is {grid.best_score_}\")"
   ]
  },
  {
   "cell_type": "code",
   "execution_count": null,
   "metadata": {},
   "outputs": [],
   "source": []
  },
  {
   "cell_type": "markdown",
   "metadata": {},
   "source": [
    "# Sklearn RandomizedSearchCV\n",
    "\n",
    "```python\n",
    "from sklearn.model_selection import RandomizedSearchCV\n",
    "import scipy.stats as stats\n",
    "```\n",
    "\n",
    "The differences between GridSearchCV and RandomomizedSearchCV are the greater parameters to be explored and the n_iter parameter decides the number of parameters sampled.\n",
    "\n",
    "The underlying dictionary of parameters must provide a rvs method, where the rvs method samples a random variable from the distribution. The objects with rvs methods are implemented in the stats module of scipy.\n",
    "\n",
    "For more information, see [Scipy.stats.](https://docs.scipy.org/doc/scipy/reference/tutorial/stats.html)\n"
   ]
  },
  {
   "cell_type": "code",
   "execution_count": 29,
   "metadata": {},
   "outputs": [
    {
     "data": {
      "text/plain": [
       "[1.4991422914433672,\n",
       " 3.728731101947025,\n",
       " 97.38051860253182,\n",
       " 43.420810866103146,\n",
       " 37.61719889196103,\n",
       " 75.80703272587459,\n",
       " 84.34600913314632,\n",
       " 66.63380694655658,\n",
       " 52.106879406071094,\n",
       " 60.422935551230005]"
      ]
     },
     "execution_count": 29,
     "metadata": {},
     "output_type": "execute_result"
    }
   ],
   "source": [
    "# An illustiration of scipy stats rvs\n",
    "from scipy import stats\n",
    "[stats.uniform(0,scale=100).rvs() for i in range(10)]\n",
    "# Instead of testing for C = [0.1,1, 10, 100] explicitly we sample rvs"
   ]
  },
  {
   "cell_type": "markdown",
   "metadata": {},
   "source": [
    "# RandomizedSearchCV in action"
   ]
  },
  {
   "cell_type": "code",
   "execution_count": 30,
   "metadata": {},
   "outputs": [],
   "source": [
    "from sklearn.model_selection import RandomizedSearchCV\n"
   ]
  },
  {
   "cell_type": "code",
   "execution_count": 37,
   "metadata": {},
   "outputs": [],
   "source": [
    "random_params = {\n",
    "    'C': stats.uniform(0,100),\n",
    "    'gamma': stats.uniform(0.1,1),\n",
    "    'kernel': ['rbf', 'poly','linear'],\n",
    "    'degree': [3,5]\n",
    "    }"
   ]
  },
  {
   "cell_type": "code",
   "execution_count": 38,
   "metadata": {},
   "outputs": [
    {
     "name": "stdout",
     "output_type": "stream",
     "text": [
      "Fitting 5 folds for each of 10 candidates, totalling 50 fits\n"
     ]
    },
    {
     "name": "stderr",
     "output_type": "stream",
     "text": [
      "[Parallel(n_jobs=-1)]: Using backend LokyBackend with 8 concurrent workers.\n",
      "[Parallel(n_jobs=-1)]: Done  25 tasks      | elapsed:    3.3s\n"
     ]
    },
    {
     "name": "stdout",
     "output_type": "stream",
     "text": [
      "Best params are {'C': 70.59166434906898, 'degree': 3, 'gamma': 0.1394223117574981, 'kernel': 'rbf'}\n",
      "Best score is 0.7127298976837613\n"
     ]
    },
    {
     "name": "stderr",
     "output_type": "stream",
     "text": [
      "[Parallel(n_jobs=-1)]: Done  50 out of  50 | elapsed:    4.2s finished\n"
     ]
    }
   ],
   "source": [
    "random_search = RandomizedSearchCV(SVC(max_iter=100000),random_params, random_state=15, verbose =2, n_jobs=-1)\n",
    "# What I'm doing here is for illustrative purposes only , this is not standard practice.\n",
    "search = random_search.fit(df.drop(\"survived\",axis=1), df.survived)\n",
    "print(f\"Best params are {search.best_params_}\")\n",
    "print(f\"Best score is {search.best_score_}\")"
   ]
  },
  {
   "cell_type": "markdown",
   "metadata": {},
   "source": [
    "# Resources\n",
    "\n",
    "- Simple medium post on hyperparameter tuning https://towardsdatascience.com/hyperparameter-tuning-c5619e7e6624\n",
    "\n",
    "- A deep dive into hyperparameter tuning. https://www.kaggle.com/willkoehrsen/intro-to-model-tuning-grid-and-random-search\n",
    "\n",
    "- A more interesting approach to hyperparameter tuning. https://www.kaggle.com/willkoehrsen/automated-model-tuning"
   ]
  },
  {
   "cell_type": "code",
   "execution_count": null,
   "metadata": {},
   "outputs": [],
   "source": []
  }
 ],
 "metadata": {
  "kernelspec": {
   "display_name": "Python 3",
   "language": "python",
   "name": "python3"
  },
  "language_info": {
   "codemirror_mode": {
    "name": "ipython",
    "version": 3
   },
   "file_extension": ".py",
   "mimetype": "text/x-python",
   "name": "python",
   "nbconvert_exporter": "python",
   "pygments_lexer": "ipython3",
   "version": "3.7.5"
  },
  "toc": {
   "base_numbering": 1,
   "nav_menu": {},
   "number_sections": true,
   "sideBar": true,
   "skip_h1_title": false,
   "title_cell": "Table of Contents",
   "title_sidebar": "Contents",
   "toc_cell": true,
   "toc_position": {},
   "toc_section_display": true,
   "toc_window_display": true
  }
 },
 "nbformat": 4,
 "nbformat_minor": 4
}
