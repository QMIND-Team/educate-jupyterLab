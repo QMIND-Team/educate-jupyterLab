{
 "cells": [
  {
   "cell_type": "markdown",
   "metadata": {},
   "source": [
    "# Binary Classification Metrics"
   ]
  },
  {
   "cell_type": "markdown",
   "metadata": {},
   "source": [
    "## Sensitivity (True Positive Rate) (Recall)\n",
    "$$\\text{True Positive Rate} = \\frac{\\text{True Positive}}{\\text{True Positive } + \\text{ False Positive}}$$\n",
    "\n",
    "```python\n",
    "from sklearn.metrics import recall_score\n",
    "```"
   ]
  },
  {
   "cell_type": "markdown",
   "metadata": {},
   "source": [
    "## Spesificity (True Negative Rate)\n",
    "$$\\text{True Negative Rate} = \\frac{\\text{True Negative}}{\\text{True Negative } + \\text{ False Positive}}$$"
   ]
  },
  {
   "cell_type": "markdown",
   "metadata": {},
   "source": [
    "## Precision\n",
    "$$\\text{Precision} = \\frac{\\text{True Positive}}{\\text{True Positive } + \\text{ False Positive}}$$\n",
    "\n",
    "```python\n",
    "from sklearn.metrics import precision_score\n",
    "```\n",
    "\n",
    "What does it really mean?\n",
    "- To have a low precision score means most predictions are done for the postivie class, incorrectly."
   ]
  },
  {
   "cell_type": "markdown",
   "metadata": {},
   "source": [
    "## Accuracy\n",
    "$$\\text{Accuracy} = \\frac{\\text{TP + TN}}{\\text{TP + TN + FP + FN}}$$\n",
    "\n",
    "```python\n",
    "from sklearn.metrics import accuracy_score\n",
    "```\n",
    "\n",
    "When should you use it?\n",
    "- Only when the dataset is balanced."
   ]
  },
  {
   "cell_type": "markdown",
   "metadata": {},
   "source": [
    "## Binary Confusion Matrix\n",
    "\n",
    "```python\n",
    " !pip install scikit-plot\n",
    "```"
   ]
  },
  {
   "cell_type": "markdown",
   "metadata": {},
   "source": [
    "![image.png](https://scikit-learn.org/stable/_images/sphx_glr_plot_confusion_matrix_001.png)"
   ]
  },
  {
   "cell_type": "markdown",
   "metadata": {},
   "source": [
    "## F1 Score (Harmonic Average of Recall and Precision)\n",
    "\n",
    "```python\n",
    "from sklearn.metrics import f1_score\n",
    "```\n",
    "\n",
    "$$F1 = 2 * \\frac{\\text{Precision}\\times\\text{Recall}}{(\\text{Precision}+\\text{Recall})}$$\n",
    "\n",
    "When should you use it?\n",
    "- When you have an unbalanced dataset."
   ]
  },
  {
   "cell_type": "markdown",
   "metadata": {},
   "source": [
    "## Reciever Operator Characteristic Curve (ROC)\n",
    "\n",
    "```python\n",
    "from sklearn.metrics import roc_curve\n",
    "!pip install scikit-plot # to easily plot\n",
    "```\n",
    "\n",
    "<img src=\"perfect_roc.png\" alt=\"Drawing\" style=\"width: 400px;\"/>"
   ]
  },
  {
   "cell_type": "markdown",
   "metadata": {},
   "source": [
    "## Area Under ROC (AUC)\n",
    "\n",
    "```python\n",
    "from sklearn.metrics import roc_auc_score\n",
    "```\n",
    "AUC tells us how capable the model is between distinguishing between different classes.\n",
    "\n",
    "It measures the tradeoff between FPS and TPR.\n",
    "\n",
    "Like F1-Score it is most useful when you an inbalanced dataset.\n",
    "\n",
    "The key difference of AUC and F1-score is that AUC does not rely on a decision threshold and works with probabilities.\n"
   ]
  },
  {
   "cell_type": "markdown",
   "metadata": {},
   "source": [
    "## Scikit Learn Classification Report\n",
    "```python\n",
    "from sklearn.metrics import classification_report\n",
    "```\n",
    "\n",
    "Classification report is an easy way of outputing the precision, recall, F1 score and accuracy.\n",
    "\n",
    "Example: Truncated from knn notebook.\n",
    "\n",
    "              precision    recall  f1-score   support\n",
    "\n",
    "           0       1.00      1.00      1.00        53\n",
    "           1       1.00      1.00      1.00        42\n",
    "           2       1.00      0.98      0.99        41\n",
    "\n",
    "    accuracy                           0.99       450\n"
   ]
  },
  {
   "cell_type": "code",
   "execution_count": null,
   "metadata": {},
   "outputs": [],
   "source": []
  },
  {
   "cell_type": "code",
   "execution_count": null,
   "metadata": {},
   "outputs": [],
   "source": []
  },
  {
   "cell_type": "code",
   "execution_count": null,
   "metadata": {},
   "outputs": [],
   "source": []
  }
 ],
 "metadata": {
  "kernelspec": {
   "display_name": "Python 3",
   "language": "python",
   "name": "python3"
  },
  "language_info": {
   "codemirror_mode": {
    "name": "ipython",
    "version": 3
   },
   "file_extension": ".py",
   "mimetype": "text/x-python",
   "name": "python",
   "nbconvert_exporter": "python",
   "pygments_lexer": "ipython3",
   "version": "3.7.5"
  },
  "toc": {
   "base_numbering": 1,
   "nav_menu": {},
   "number_sections": true,
   "sideBar": true,
   "skip_h1_title": false,
   "title_cell": "Table of Contents",
   "title_sidebar": "Contents",
   "toc_cell": false,
   "toc_position": {},
   "toc_section_display": true,
   "toc_window_display": false
  },
  "toc-autonumbering": true
 },
 "nbformat": 4,
 "nbformat_minor": 4
}
