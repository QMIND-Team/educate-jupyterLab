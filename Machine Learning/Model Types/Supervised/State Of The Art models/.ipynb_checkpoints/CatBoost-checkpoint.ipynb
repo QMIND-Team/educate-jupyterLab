{
 "cells": [
  {
   "cell_type": "markdown",
   "metadata": {
    "toc": true
   },
   "source": [
    "<h1>Table of Contents<span class=\"tocSkip\"></span></h1>\n",
    "<div class=\"toc\"><ul class=\"toc-item\"><li><span><a href=\"#Catboost\" data-toc-modified-id=\"Catboost-1\"><span class=\"toc-item-num\">1&nbsp;&nbsp;</span>Catboost</a></span></li><li><span><a href=\"#Parameter-Tuning\" data-toc-modified-id=\"Parameter-Tuning-2\"><span class=\"toc-item-num\">2&nbsp;&nbsp;</span>Parameter Tuning</a></span></li><li><span><a href=\"#Worked-Example\" data-toc-modified-id=\"Worked-Example-3\"><span class=\"toc-item-num\">3&nbsp;&nbsp;</span>Worked Example</a></span></li></ul></div>"
   ]
  },
  {
   "cell_type": "markdown",
   "metadata": {},
   "source": [
    "# Catboost"
   ]
  },
  {
   "cell_type": "markdown",
   "metadata": {},
   "source": [
    "# Parameter Tuning\n",
    "\n",
    "Catboost provides a tutorial on what you should test https://catboost.ai/docs/concepts/parameter-tuning.html"
   ]
  },
  {
   "cell_type": "markdown",
   "metadata": {},
   "source": [
    "# Worked Example"
   ]
  },
  {
   "cell_type": "code",
   "execution_count": 20,
   "metadata": {},
   "outputs": [],
   "source": [
    "import numpy as np \n",
    "import pandas as pd\n",
    "\n",
    "from catboost import CatBoostClassifier , Pool\n",
    "from sklearn.model_selection import train_test_split\n",
    "from sklearn.metrics import roc_auc_score\n"
   ]
  },
  {
   "cell_type": "code",
   "execution_count": 13,
   "metadata": {},
   "outputs": [],
   "source": [
    "df = pd.read_csv(\"train.csv\",index_col=0)\n",
    "df.dropna(inplace=True)"
   ]
  },
  {
   "cell_type": "code",
   "execution_count": 14,
   "metadata": {},
   "outputs": [],
   "source": [
    "# Catboost has its own way to dealing with categorical variables, so we will not encode any.\n",
    "\n",
    "model = CatBoostClassifier(learning_rate =0.01,\n",
    "                           class_weights=[0.8,0.2], eval_metric='AUC', \n",
    "                           logging_level='Silent',use_best_model=True)"
   ]
  },
  {
   "cell_type": "code",
   "execution_count": 15,
   "metadata": {},
   "outputs": [],
   "source": [
    "X_train, X_test, y_train, y_test = train_test_split(df.drop([\"target\"],axis=1),df.target, random_state=0)"
   ]
  },
  {
   "cell_type": "code",
   "execution_count": 16,
   "metadata": {},
   "outputs": [],
   "source": [
    "# We need to tell catboost which features are categorical\n",
    "catagorical_features = np.where(X_train.dtypes != np.float)[0]\n",
    "# Catboost really likes if we transform the data into its data structure\n",
    "train = Pool(X_train,y_train,cat_features = catagorical_features)\n",
    "test = Pool(X_test,y_test,cat_features = catagorical_features)"
   ]
  },
  {
   "cell_type": "code",
   "execution_count": 17,
   "metadata": {},
   "outputs": [
    {
     "name": "stdout",
     "output_type": "stream",
     "text": [
      "CPU times: user 52min 47s, sys: 9min 9s, total: 1h 1min 56s\n",
      "Wall time: 11min 22s\n"
     ]
    },
    {
     "data": {
      "text/plain": [
       "<catboost.core.CatBoostClassifier at 0x1412a6b50>"
      ]
     },
     "execution_count": 17,
     "metadata": {},
     "output_type": "execute_result"
    }
   ],
   "source": [
    "%%time\n",
    "model.fit(train, eval_set=test)"
   ]
  },
  {
   "cell_type": "code",
   "execution_count": 21,
   "metadata": {},
   "outputs": [
    {
     "data": {
      "text/plain": [
       "0.7826332921931083"
      ]
     },
     "execution_count": 21,
     "metadata": {},
     "output_type": "execute_result"
    }
   ],
   "source": [
    "# A Competative Score without hyperparameter tuning or categorical encoding\n",
    "preds = model.predict_proba(X_test)\n",
    "roc_auc_score(y_test,preds[:,1])"
   ]
  },
  {
   "cell_type": "code",
   "execution_count": null,
   "metadata": {},
   "outputs": [],
   "source": []
  }
 ],
 "metadata": {
  "kernelspec": {
   "display_name": "Python 3",
   "language": "python",
   "name": "python3"
  },
  "language_info": {
   "codemirror_mode": {
    "name": "ipython",
    "version": 3
   },
   "file_extension": ".py",
   "mimetype": "text/x-python",
   "name": "python",
   "nbconvert_exporter": "python",
   "pygments_lexer": "ipython3",
   "version": "3.7.5"
  },
  "toc": {
   "base_numbering": 1,
   "nav_menu": {},
   "number_sections": true,
   "sideBar": true,
   "skip_h1_title": false,
   "title_cell": "Table of Contents",
   "title_sidebar": "Contents",
   "toc_cell": true,
   "toc_position": {},
   "toc_section_display": true,
   "toc_window_display": true
  }
 },
 "nbformat": 4,
 "nbformat_minor": 4
}
