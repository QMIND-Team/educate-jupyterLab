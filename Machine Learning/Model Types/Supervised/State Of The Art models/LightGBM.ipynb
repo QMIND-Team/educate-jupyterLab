{
 "cells": [
  {
   "cell_type": "markdown",
   "metadata": {},
   "source": [
    "<img src=\"../../../../imgs/CampQMIND_banner.png\">"
   ]
  },
  {
   "cell_type": "markdown",
   "metadata": {},
   "source": [
    "# Microsoft's LightGBM\n",
    "\n",
    "LightGBM is a gradient boosted machine learning library by Microsoft. It is prefered among its competitiors for its speed. For most use-cases it provides higher performance than other gradient boosting implementations ."
   ]
  },
  {
   "cell_type": "markdown",
   "metadata": {
    "toc": true
   },
   "source": [
    "<h1>Table of Contents<span class=\"tocSkip\"></span></h1>\n",
    "<div class=\"toc\"><ul class=\"toc-item\"><li><span><a href=\"#Microsoft's-LightGBM\" data-toc-modified-id=\"Microsoft's-LightGBM-1\"><span class=\"toc-item-num\">1&nbsp;&nbsp;</span>Microsoft's LightGBM</a></span></li><li><span><a href=\"#Installing-the-package\" data-toc-modified-id=\"Installing-the-package-2\"><span class=\"toc-item-num\">2&nbsp;&nbsp;</span>Installing the package</a></span></li><li><span><a href=\"#Standard-Usage\" data-toc-modified-id=\"Standard-Usage-3\"><span class=\"toc-item-num\">3&nbsp;&nbsp;</span>Standard Usage</a></span></li><li><span><a href=\"#Sample-Grid-Search\" data-toc-modified-id=\"Sample-Grid-Search-4\"><span class=\"toc-item-num\">4&nbsp;&nbsp;</span>Sample Grid Search</a></span></li><li><span><a href=\"#Worked-Example\" data-toc-modified-id=\"Worked-Example-5\"><span class=\"toc-item-num\">5&nbsp;&nbsp;</span>Worked Example</a></span></li><li><span><a href=\"#Resources\" data-toc-modified-id=\"Resources-6\"><span class=\"toc-item-num\">6&nbsp;&nbsp;</span>Resources</a></span></li></ul></div>"
   ]
  },
  {
   "cell_type": "markdown",
   "metadata": {},
   "source": [
    "# Installing the package\n",
    "\n",
    "Standard installization:\n",
    "\n",
    "``` python\n",
    "!pip install lightgbm\n",
    "```\n",
    "\n",
    "\n",
    "To be able to use the gpu implementation:\n",
    "``` python\n",
    "!pip install lightgbm --install-option=--gpu\n",
    "```"
   ]
  },
  {
   "cell_type": "markdown",
   "metadata": {},
   "source": [
    "# Standard Usage\n",
    "``` python\n",
    "import lightgbm as lgb\n",
    "```"
   ]
  },
  {
   "cell_type": "markdown",
   "metadata": {},
   "source": [
    "# Sample Grid Search\n",
    "\n",
    "```python\n",
    "from scipy.stats import randint as sp_randint\n",
    "from scipy.stats import uniform as sp_uniform\n",
    "\n",
    "param_test ={'num_leaves': sp_randint(6, 50), \n",
    "             'min_child_samples': sp_randint(100, 500), \n",
    "             'min_child_weight': [1e-5, 1e-3, 1e-2, 1e-1, 1, 1e1, 1e2, 1e3, 1e4],\n",
    "             'subsample': sp_uniform(loc=0.2, scale=0.8), \n",
    "             'colsample_bytree': sp_uniform(loc=0.4, scale=0.6),\n",
    "             'reg_alpha': [0, 1e-1, 1, 2, 5, 7, 10, 50, 100],\n",
    "             'reg_lambda': [0, 1e-1, 1, 5, 10, 20, 50, 100]}\n",
    "\n",
    "fit_params={\"early_stopping_rounds\":30, \n",
    "            \"eval_metric\" : 'auc', \n",
    "            \"eval_set\" : [(X_test,y_test)],\n",
    "            'eval_names': ['valid'],\n",
    "            'verbose': 100,\n",
    "            'categorical_feature': 'auto',\n",
    "           'is_unbalance':True}\n",
    "\n",
    "clf = lgb.LGBMClassifier(max_depth=-1, random_state=0, silent=True, metric='None', n_jobs=4, n_estimators=5000)\n",
    "grid = RandomizedSearchCV(\n",
    "    estimator=clf, param_distributions=param_test, \n",
    "    n_iter=100,\n",
    "    scoring='roc_auc',\n",
    "    cv=3,\n",
    "    refit=True,\n",
    "    random_state=314,\n",
    "    verbose=True)\n",
    "\n",
    "grid.fit(X_train,y_train,**fit_params)\n",
    "```\n",
    "\n",
    "source: https://www.kaggle.com/mlisovyi/lightgbm-hyperparameter-optimisation-lb-0-761"
   ]
  },
  {
   "cell_type": "markdown",
   "metadata": {},
   "source": [
    "# Worked Example"
   ]
  },
  {
   "cell_type": "code",
   "execution_count": 14,
   "metadata": {},
   "outputs": [],
   "source": [
    "import numpy as np \n",
    "import pandas as pd\n",
    "\n",
    "import lightgbm as lgb\n",
    "from sklearn.model_selection import train_test_split\n",
    "from sklearn.metrics import roc_auc_score"
   ]
  },
  {
   "cell_type": "code",
   "execution_count": 15,
   "metadata": {},
   "outputs": [],
   "source": [
    "df = pd.read_csv(\"train.csv\",index_col=0)"
   ]
  },
  {
   "cell_type": "code",
   "execution_count": 16,
   "metadata": {},
   "outputs": [],
   "source": [
    "# LightGBM does deal with categorical variables but only if they are a \"category\" data type\n",
    "X = df.drop([\"target\"],axis=1)\n",
    "y = df.target\n",
    "for col in X.select_dtypes(\"O\"):\n",
    "    X[col] = X[col].astype('category')\n",
    "X_train, X_test, y_train, y_test = train_test_split(X,y, random_state=0)"
   ]
  },
  {
   "cell_type": "code",
   "execution_count": 17,
   "metadata": {},
   "outputs": [],
   "source": [
    "params = {'learning_rate': 0.05,\n",
    "          'metric': 'auc',\n",
    "          'n_jobs': -1,\n",
    "          'n_estimators' : 1000,\n",
    "          'feature_fraction_seed': 0,\n",
    "          'bagging_seed': 0,\n",
    "          'boosting_type': 'gbdt',\n",
    "          'verbose': 1,\n",
    "          'is_unbalance': True}\n",
    "params_grid = {'colsample_bytree': 0.6377497065362651, 'min_child_samples': 323, 'min_child_weight': 0.1, 'num_leaves': 10, 'reg_alpha': 100, 'reg_lambda': 0.1, 'subsample': 0.9071147321063562}\n",
    "model = lgb.LGBMClassifier(**params,**params_grid)"
   ]
  },
  {
   "cell_type": "code",
   "execution_count": 18,
   "metadata": {},
   "outputs": [
    {
     "name": "stdout",
     "output_type": "stream",
     "text": [
      "Training until validation scores don't improve for 1000 rounds\n",
      "[1000]\tvalid_0's auc: 0.778523\n",
      "Did not meet early stopping. Best iteration is:\n",
      "[467]\tvalid_0's auc: 0.780791\n",
      "CPU times: user 3min 4s, sys: 17.4 s, total: 3min 22s\n",
      "Wall time: 39.2 s\n"
     ]
    },
    {
     "data": {
      "text/plain": [
       "LGBMClassifier(bagging_seed=0, boosting_type='gbdt', class_weight=None,\n",
       "               colsample_bytree=0.6377497065362651, feature_fraction_seed=0,\n",
       "               importance_type='split', is_unbalance=True, learning_rate=0.05,\n",
       "               max_depth=-1, metric='auc', min_child_samples=323,\n",
       "               min_child_weight=0.1, min_split_gain=0.0, n_estimators=1000,\n",
       "               n_jobs=-1, num_leaves=10, objective=None, random_state=None,\n",
       "               reg_alpha=100, reg_lambda=0.1, silent=True,\n",
       "               subsample=0.9071147321063562, subsample_for_bin=200000,\n",
       "               subsample_freq=0, verbose=1)"
      ]
     },
     "execution_count": 18,
     "metadata": {},
     "output_type": "execute_result"
    }
   ],
   "source": [
    "%%time\n",
    "model.fit(X_train,y_train,eval_metric='AUC',eval_set = [(X_test, y_test)],\n",
    "                  verbose = 1000,\n",
    "                  early_stopping_rounds = 1000)"
   ]
  },
  {
   "cell_type": "code",
   "execution_count": 19,
   "metadata": {},
   "outputs": [
    {
     "data": {
      "text/plain": [
       "0.7807908494965445"
      ]
     },
     "execution_count": 19,
     "metadata": {},
     "output_type": "execute_result"
    }
   ],
   "source": [
    "preds = model.predict_proba(X_test)\n",
    "roc_auc_score(y_test, preds[:,1])"
   ]
  },
  {
   "cell_type": "code",
   "execution_count": 22,
   "metadata": {},
   "outputs": [
    {
     "data": {
      "text/plain": [
       "<matplotlib.axes._subplots.AxesSubplot at 0x133d615d0>"
      ]
     },
     "execution_count": 22,
     "metadata": {},
     "output_type": "execute_result"
    },
    {
     "data": {
      "image/png": "[encoded data removed]",
      "text/plain": [
       "<Figure size 432x288 with 1 Axes>"
      ]
     },
     "metadata": {
      "needs_background": "light"
     },
     "output_type": "display_data"
    }
   ],
   "source": [
    "lgb.plot_importance(model)"
   ]
  },
  {
   "cell_type": "markdown",
   "metadata": {},
   "source": [
    "# Resources\n",
    "- https://www.youtube.com/watch?v=4pnlGZ7l67I - Transaction Fraud Detection using LightGBM Model | LightGBM Tutorial\n",
    "- https://www.youtube.com/watch?v=V5158Oug4W8 - Topic 10. Part 2. Key ideas behind Xgboost, LightGBM, and CatBoost. Practice with LightGBM"
   ]
  },
  {
   "cell_type": "code",
   "execution_count": null,
   "metadata": {},
   "outputs": [],
   "source": []
  }
 ],
 "metadata": {
  "kernelspec": {
   "display_name": "Python 3",
   "language": "python",
   "name": "python3"
  },
  "language_info": {
   "codemirror_mode": {
    "name": "ipython",
    "version": 3
   },
   "file_extension": ".py",
   "mimetype": "text/x-python",
   "name": "python",
   "nbconvert_exporter": "python",
   "pygments_lexer": "ipython3",
   "version": "3.7.5"
  },
  "toc": {
   "base_numbering": 1,
   "nav_menu": {},
   "number_sections": true,
   "sideBar": true,
   "skip_h1_title": false,
   "title_cell": "Table of Contents",
   "title_sidebar": "Contents",
   "toc_cell": true,
   "toc_position": {},
   "toc_section_display": true,
   "toc_window_display": true
  }
 },
 "nbformat": 4,
 "nbformat_minor": 4
}
