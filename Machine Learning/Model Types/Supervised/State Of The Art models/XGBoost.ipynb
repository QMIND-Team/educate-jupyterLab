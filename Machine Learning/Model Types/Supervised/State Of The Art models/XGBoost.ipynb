{
 "cells": [
  {
   "cell_type": "markdown",
   "metadata": {},
   "source": [
    "<img src=\"../../../../imgs/CampQMIND_banner.png\">"
   ]
  },
  {
   "cell_type": "markdown",
   "metadata": {},
   "source": [
    "# XGBoost - Xtreme Gradient Boosting \n",
    "\n",
    "XGBoost is a gradient boosted machine learning library. It is one of the efficient implementations of gradient boosted machines. "
   ]
  },
  {
   "cell_type": "markdown",
   "metadata": {
    "toc": true
   },
   "source": [
    "<h1>Table of Contents<span class=\"tocSkip\"></span></h1>\n",
    "<div class=\"toc\"><ul class=\"toc-item\"><li><span><a href=\"#XGBoost---Xtreme-Gradient-Boosting\" data-toc-modified-id=\"XGBoost---Xtreme-Gradient-Boosting-1\"><span class=\"toc-item-num\">1&nbsp;&nbsp;</span>XGBoost - Xtreme Gradient Boosting</a></span><ul class=\"toc-item\"><li><span><a href=\"#Authors-explaining-xgboost\" data-toc-modified-id=\"Authors-explaining-xgboost-1.1\"><span class=\"toc-item-num\">1.1&nbsp;&nbsp;</span>Authors explaining xgboost</a></span></li></ul></li><li><span><a href=\"#Installing-the-package\" data-toc-modified-id=\"Installing-the-package-2\"><span class=\"toc-item-num\">2&nbsp;&nbsp;</span>Installing the package</a></span></li><li><span><a href=\"#Standard-Usage\" data-toc-modified-id=\"Standard-Usage-3\"><span class=\"toc-item-num\">3&nbsp;&nbsp;</span>Standard Usage</a></span></li><li><span><a href=\"#Sample-Grid-Search\" data-toc-modified-id=\"Sample-Grid-Search-4\"><span class=\"toc-item-num\">4&nbsp;&nbsp;</span>Sample Grid Search</a></span></li><li><span><a href=\"#A-Worked-Example\" data-toc-modified-id=\"A-Worked-Example-5\"><span class=\"toc-item-num\">5&nbsp;&nbsp;</span>A Worked Example</a></span></li><li><span><a href=\"#Resources\" data-toc-modified-id=\"Resources-6\"><span class=\"toc-item-num\">6&nbsp;&nbsp;</span>Resources</a></span></li></ul></div>"
   ]
  },
  {
   "cell_type": "code",
   "execution_count": 16,
   "metadata": {},
   "outputs": [
    {
     "data": {
      "text/html": [
       "\n",
       "        <iframe\n",
       "            width=\"560\"\n",
       "            height=\"315\"\n",
       "            src=\"https://www.youtube.com/embed/OtD8wVaFm6E\"\n",
       "            frameborder=\"0\"\n",
       "            allowfullscreen\n",
       "        ></iframe>\n",
       "        "
      ],
      "text/plain": [
       "<IPython.lib.display.IFrame at 0x12767b8d0>"
      ]
     },
     "execution_count": 16,
     "metadata": {},
     "output_type": "execute_result"
    }
   ],
   "source": [
    "from IPython.display import IFrame\n",
    "IFrame('https://www.youtube.com/embed/OtD8wVaFm6E',560,315)"
   ]
  },
  {
   "cell_type": "markdown",
   "metadata": {},
   "source": [
    "## Authors explaining xgboost\n",
    "\n",
    "https://xgboost.readthedocs.io/en/latest/tutorials/model.html"
   ]
  },
  {
   "cell_type": "markdown",
   "metadata": {},
   "source": [
    "# Installing the package\n",
    "``` python\n",
    "!pip install xgboost\n",
    "```\n",
    "\n"
   ]
  },
  {
   "cell_type": "markdown",
   "metadata": {},
   "source": [
    "# Standard Usage\n",
    "``` python\n",
    "import  xgboost as Xgb\n",
    "```"
   ]
  },
  {
   "cell_type": "markdown",
   "metadata": {},
   "source": [
    "# Sample Grid Search\n",
    "\n",
    "```python\n",
    "params = {\n",
    "        'min_child_weight': [1, 5, 10],\n",
    "        'gamma': [0.5, 1, 1.5, 2, 5],\n",
    "        'subsample': [0.6, 0.8, 1.0],\n",
    "        'colsample_bytree': [0.6, 0.8, 1.0],\n",
    "        'max_depth': [3, 4, 5]\n",
    "        }\n",
    "\n",
    "xgb = XGBClassifier(learning_rate=0.01, n_estimators=500, objective='binary:logistic',\n",
    "                    silent=True, nthread=1) # Low learning rate is prefered.\n",
    "\n",
    "random_search = RandomizedSearchCV(xgb, param_distributions=params, n_iter=5, scoring='roc_auc', n_jobs=4, cv=3, verbose=3, random_state=0)\n",
    "```\n",
    "\n",
    "source: https://www.kaggle.com/tilii7/hyperparameter-grid-search-with-xgboost"
   ]
  },
  {
   "cell_type": "markdown",
   "metadata": {},
   "source": [
    "# A Worked Example"
   ]
  },
  {
   "cell_type": "code",
   "execution_count": 3,
   "metadata": {},
   "outputs": [],
   "source": [
    "import numpy as np \n",
    "import pandas as pd\n",
    "import xgboost as xgb\n",
    "from sklearn.model_selection import train_test_split\n",
    "from sklearn.metrics import roc_auc_score\n",
    "from category_encoders import TargetEncoder"
   ]
  },
  {
   "cell_type": "code",
   "execution_count": 4,
   "metadata": {},
   "outputs": [],
   "source": [
    "# Loading in the data\n",
    "df = pd.read_csv(\"train.csv\",index_col=0)"
   ]
  },
  {
   "cell_type": "code",
   "execution_count": 5,
   "metadata": {},
   "outputs": [],
   "source": [
    "# Selecting categorical columns and encoding them.\n",
    "# XGBoost on its own doesn't deal with categorical variables\n",
    "\n",
    "cat_cols = df.select_dtypes('O').columns.tolist()\n",
    "enc = TargetEncoder(cols=cat_cols).fit(df.select_dtypes('O'), df.target)\n",
    "df[cat_cols] = enc.transform(df.select_dtypes('O'))"
   ]
  },
  {
   "cell_type": "code",
   "execution_count": 6,
   "metadata": {},
   "outputs": [],
   "source": [
    "X_train, X_test, y_train, y_test = train_test_split(df.drop('target',axis=1),df.target,random_state=0)"
   ]
  },
  {
   "cell_type": "code",
   "execution_count": 8,
   "metadata": {},
   "outputs": [
    {
     "name": "stdout",
     "output_type": "stream",
     "text": [
      "CPU times: user 1min 43s, sys: 770 ms, total: 1min 43s\n",
      "Wall time: 1min 49s\n"
     ]
    },
    {
     "data": {
      "text/plain": [
       "XGBClassifier(base_score=0.5, booster='gbtree', colsample_bylevel=1,\n",
       "              colsample_bynode=1, colsample_bytree=0.8, gamma=2,\n",
       "              learning_rate=0.1, max_delta_step=0, max_depth=5,\n",
       "              min_child_weight=5, missing=None, n_estimators=100, n_jobs=-1,\n",
       "              nthread=None, objective='binary:logistic', random_state=0,\n",
       "              reg_alpha=0, reg_lambda=1, scale_pos_weight=1, seed=None,\n",
       "              silent=None, subsample=0.8, verbosity=1)"
      ]
     },
     "execution_count": 8,
     "metadata": {},
     "output_type": "execute_result"
    }
   ],
   "source": [
    "%%time\n",
    "params = {'subsample': 0.8, 'min_child_weight': 5, 'max_depth': 5, 'gamma': 2, 'colsample_bytree': 0.8}\n",
    "model = xgb.XGBClassifier(**params,n_jobs=-1,random_state=0) # Optionally use tree_method='gpu_hist' to use GPU\n",
    "model.fit(X_train,y_train)"
   ]
  },
  {
   "cell_type": "code",
   "execution_count": 11,
   "metadata": {},
   "outputs": [
    {
     "data": {
      "text/plain": [
       "0.7927797324983318"
      ]
     },
     "execution_count": 11,
     "metadata": {},
     "output_type": "execute_result"
    }
   ],
   "source": [
    "preds = model.predict_proba(X_test)\n",
    "roc_auc_score(y_test,preds[:,1])"
   ]
  },
  {
   "cell_type": "code",
   "execution_count": 13,
   "metadata": {},
   "outputs": [
    {
     "data": {
      "text/plain": [
       "<matplotlib.axes._subplots.AxesSubplot at 0x126d29190>"
      ]
     },
     "execution_count": 13,
     "metadata": {},
     "output_type": "execute_result"
    },
    {
     "data": {
      "image/png": "[encoded data removed]",
      "text/plain": [
       "<Figure size 432x288 with 1 Axes>"
      ]
     },
     "metadata": {
      "needs_background": "light"
     },
     "output_type": "display_data"
    }
   ],
   "source": [
    "xgb.plot_importance(model)"
   ]
  },
  {
   "cell_type": "markdown",
   "metadata": {},
   "source": [
    "# Resources\n",
    "- https://www.youtube.com/watch?v=4rikgkt4IcU - Using XGBoost for Time Series Forecasting in Python | XGBoost for Stock Price Prediction Tutorial\n",
    "- https://www.youtube.com/watch?v=V5158Oug4W8 - Topic 10. Part 2. Key ideas behind Xgboost, LightGBM, and CatBoost. Practice with LightGBM"
   ]
  },
  {
   "cell_type": "code",
   "execution_count": null,
   "metadata": {},
   "outputs": [],
   "source": []
  }
 ],
 "metadata": {
  "kernelspec": {
   "display_name": "Python 3",
   "language": "python",
   "name": "python3"
  },
  "language_info": {
   "codemirror_mode": {
    "name": "ipython",
    "version": 3
   },
   "file_extension": ".py",
   "mimetype": "text/x-python",
   "name": "python",
   "nbconvert_exporter": "python",
   "pygments_lexer": "ipython3",
   "version": "3.7.5"
  },
  "toc": {
   "base_numbering": 1,
   "nav_menu": {},
   "number_sections": true,
   "sideBar": true,
   "skip_h1_title": false,
   "title_cell": "Table of Contents",
   "title_sidebar": "Contents",
   "toc_cell": true,
   "toc_position": {},
   "toc_section_display": true,
   "toc_window_display": true
  }
 },
 "nbformat": 4,
 "nbformat_minor": 4
}
