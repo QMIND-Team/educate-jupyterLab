{
 "cells": [
  {
   "cell_type": "markdown",
   "metadata": {},
   "source": [
    "<img src=\"../../../imgs/CampQMIND_banner.png\">"
   ]
  },
  {
   "cell_type": "markdown",
   "metadata": {},
   "source": [
    "# Linear Regression\n",
    "\n",
    "This notebook is intended as a short introduction to linear regression. Linear regression is implemented in both scikit-learn and statsmodels."
   ]
  },
  {
   "cell_type": "markdown",
   "metadata": {
    "toc": true
   },
   "source": [
    "<h1>Table of Contents<span class=\"tocSkip\"></span></h1>\n",
    "<div class=\"toc\"><ul class=\"toc-item\"><li><span><a href=\"#Linear-Regression\" data-toc-modified-id=\"Linear-Regression-1\"><span class=\"toc-item-num\">1&nbsp;&nbsp;</span>Linear Regression</a></span></li><li><span><a href=\"#Implementation\" data-toc-modified-id=\"Implementation-2\"><span class=\"toc-item-num\">2&nbsp;&nbsp;</span>Implementation</a></span><ul class=\"toc-item\"><li><span><a href=\"#Normal-Equation\" data-toc-modified-id=\"Normal-Equation-2.1\"><span class=\"toc-item-num\">2.1&nbsp;&nbsp;</span>Normal Equation</a></span></li><li><span><a href=\"#Gradient-Descent\" data-toc-modified-id=\"Gradient-Descent-2.2\"><span class=\"toc-item-num\">2.2&nbsp;&nbsp;</span>Gradient Descent</a></span></li></ul></li><li><span><a href=\"#Evaluation\" data-toc-modified-id=\"Evaluation-3\"><span class=\"toc-item-num\">3&nbsp;&nbsp;</span>Evaluation</a></span><ul class=\"toc-item\"><li><span><a href=\"#Coefficient-of-Determination-(R^2)\" data-toc-modified-id=\"Coefficient-of-Determination-(R^2)-3.1\"><span class=\"toc-item-num\">3.1&nbsp;&nbsp;</span>Coefficient of Determination (R^2)</a></span></li><li><span><a href=\"#Root-Mean-Squared-Error-(RMSE)\" data-toc-modified-id=\"Root-Mean-Squared-Error-(RMSE)-3.2\"><span class=\"toc-item-num\">3.2&nbsp;&nbsp;</span>Root Mean Squared Error (RMSE)</a></span><ul class=\"toc-item\"><li><span><a href=\"#What-is-it?\" data-toc-modified-id=\"What-is-it?-3.2.1\"><span class=\"toc-item-num\">3.2.1&nbsp;&nbsp;</span>What is it?</a></span></li><li><span><a href=\"#When-is-it-good-for?\" data-toc-modified-id=\"When-is-it-good-for?-3.2.2\"><span class=\"toc-item-num\">3.2.2&nbsp;&nbsp;</span>When is it good for?</a></span></li></ul></li><li><span><a href=\"#Mean-Absolute-Error-(MAE)\" data-toc-modified-id=\"Mean-Absolute-Error-(MAE)-3.3\"><span class=\"toc-item-num\">3.3&nbsp;&nbsp;</span>Mean Absolute Error (MAE)</a></span><ul class=\"toc-item\"><li><span><a href=\"#What-is-it?\" data-toc-modified-id=\"What-is-it?-3.3.1\"><span class=\"toc-item-num\">3.3.1&nbsp;&nbsp;</span>What is it?</a></span></li><li><span><a href=\"#When-is-it-good-for?\" data-toc-modified-id=\"When-is-it-good-for?-3.3.2\"><span class=\"toc-item-num\">3.3.2&nbsp;&nbsp;</span>When is it good for?</a></span></li></ul></li></ul></li><li><span><a href=\"#Libraries\" data-toc-modified-id=\"Libraries-4\"><span class=\"toc-item-num\">4&nbsp;&nbsp;</span>Libraries</a></span><ul class=\"toc-item\"><li><span><a href=\"#Sklearn\" data-toc-modified-id=\"Sklearn-4.1\"><span class=\"toc-item-num\">4.1&nbsp;&nbsp;</span>Sklearn</a></span></li><li><span><a href=\"#Statsmodels\" data-toc-modified-id=\"Statsmodels-4.2\"><span class=\"toc-item-num\">4.2&nbsp;&nbsp;</span>Statsmodels</a></span></li></ul></li><li><span><a href=\"#Resources\" data-toc-modified-id=\"Resources-5\"><span class=\"toc-item-num\">5&nbsp;&nbsp;</span>Resources</a></span></li></ul></div>"
   ]
  },
  {
   "cell_type": "code",
   "execution_count": 1,
   "metadata": {},
   "outputs": [
    {
     "data": {
      "text/html": [
       "\n",
       "        <iframe\n",
       "            width=\"560\"\n",
       "            height=\"315\"\n",
       "            src=\"https://www.youtube.com/embed/CtKeHnfK5uA\"\n",
       "            frameborder=\"0\"\n",
       "            allowfullscreen\n",
       "        ></iframe>\n",
       "        "
      ],
      "text/plain": [
       "<IPython.lib.display.IFrame at 0x7fee43745bd0>"
      ]
     },
     "execution_count": 1,
     "metadata": {},
     "output_type": "execute_result"
    }
   ],
   "source": [
    "from IPython.display import IFrame\n",
    "IFrame('https://www.youtube.com/embed/CtKeHnfK5uA',560,315)"
   ]
  },
  {
   "cell_type": "markdown",
   "metadata": {},
   "source": [
    "# Implementation\n",
    "\n",
    "The estimator is $h_{\\theta} = \\theta_0x_0+\\theta_1x_1+\\theta_2x_2+...++\\theta_nx_n$\n",
    "\n",
    "The cost function(the function we want to optimize) is \n",
    "$\\frac{1}{2m}\\sum_{i=1}^{m}(h_{\\theta}(x) - y)$\n",
    "\n",
    "In matrix form the equation becomes $X\\theta = y$\n",
    "\n",
    "Where X is an observation(m) by feature matrix(n)\n",
    "\n",
    "$\\theta$ is a n+1 column vector and y is a size m column vector.\n",
    "\n",
    "We want to solve for the set of weights ($\\theta$)."
   ]
  },
  {
   "cell_type": "markdown",
   "metadata": {},
   "source": [
    "## Normal Equation\n",
    "\n",
    "The analytical solution to the above formulation is known as the normal equation.\n",
    "\n",
    "Assuming $X^TX$ exists, $\\theta = (X^TX)^{-1}X^Ty$\n",
    "\n",
    "This formulation of linear regression can be found in numpy.linalg package under the name \"lstsq\"."
   ]
  },
  {
   "cell_type": "markdown",
   "metadata": {},
   "source": [
    "## Gradient Descent\n",
    "\n",
    "The m becomes large especially for m > 10^4, the above equation becomes difficult to solve.\n",
    "\n",
    "An alternate formulation involves iteratively changing the weight vector $\\theta$ with respect to the cost function. This approach is used most frequently with deep learning methods.\n",
    "\n",
    "You can find a brief explanation of gradient descent [here.](https://towardsdatascience.com/linear-regression-using-gradient-descent-97a6c8700931)"
   ]
  },
  {
   "cell_type": "markdown",
   "metadata": {},
   "source": [
    "# Evaluation"
   ]
  },
  {
   "cell_type": "markdown",
   "metadata": {},
   "source": [
    "## Coefficient of Determination (R^2)"
   ]
  },
  {
   "cell_type": "markdown",
   "metadata": {},
   "source": [
    "<p>Sometimes, it is helpful to think about how well the model is doing than just predicting the mean.</p>\n",
    "<p>For the general use case, we will use this explain how much of the variance in the dependent variable is captured by the independent variables.</p>\n",
    "<p> * The equations * </p>\n",
    "$SS_{total} = \\sum(y_{i} - \\bar{y})^2$  , $SS_{residual} = \\sum(y_{i} - \\hat{y})$\n",
    "where $y_{i}$ is the dependent variable, $\\hat{y}$ is the prediction and $\\bar{y}$ is the mean of $y$.\n",
    "\n",
    "<p> We define $R^2 = 1 - \\frac{SS_{residual}}{SS_{total}}$ </p>\n",
    "\n",
    "$R^2$ close to one means the model performs better than the horizontal line while an $R^2$ of zero means the model performs worse than the horizontal line."
   ]
  },
  {
   "cell_type": "code",
   "execution_count": 2,
   "metadata": {},
   "outputs": [],
   "source": [
    "from sklearn.model_selection import train_test_split\n",
    "from sklearn.linear_model import LinearRegression\n",
    "import matplotlib.pyplot as plt\n",
    "import seaborn as sns\n",
    "import numpy as np\n",
    "\n",
    "tips = sns.load_dataset(\"tips\")\n",
    "X_train, X_test, y_train, y_test = train_test_split(tips.total_bill.values.reshape(-1, 1),tips.tip.values)\n",
    "model = LinearRegression()\n",
    "model.fit(X_train,y_train)\n",
    "predictions = model.predict(X_test)"
   ]
  },
  {
   "cell_type": "code",
   "execution_count": 3,
   "metadata": {},
   "outputs": [
    {
     "name": "stdout",
     "output_type": "stream",
     "text": [
      "R-squared is 0.54\n"
     ]
    },
    {
     "data": {
      "image/png": "[encoded data removed]",
      "text/plain": [
       "<Figure size 432x288 with 1 Axes>"
      ]
     },
     "metadata": {
      "needs_background": "light"
     },
     "output_type": "display_data"
    }
   ],
   "source": [
    "sns.regplot(X_test,y_test)\n",
    "plt.plot(X_test,predictions)\n",
    "from sklearn.metrics import r2_score\n",
    "print(\"R-squared is\",r2_score(y_test,predictions).round(2))\n",
    "\n",
    "# As you can see a low r^2 corresponds to a poor explanation of the variation of the underlying system"
   ]
  },
  {
   "cell_type": "markdown",
   "metadata": {},
   "source": [
    "## Root Mean Squared Error (RMSE)"
   ]
  },
  {
   "cell_type": "markdown",
   "metadata": {},
   "source": [
    "### What is it?"
   ]
  },
  {
   "cell_type": "markdown",
   "metadata": {},
   "source": [
    "$$\\text{RMSE} = \\sqrt{\\sum_{i=1}^{N}\\frac{(\\hat{y_i} - y_i)^2}{N}}$$"
   ]
  },
  {
   "cell_type": "markdown",
   "metadata": {},
   "source": [
    "### When is it good for?"
   ]
  },
  {
   "cell_type": "markdown",
   "metadata": {},
   "source": [
    "- It is in the same scale as the dependent variable.\n",
    "- It places higher weight on bigger errors. This means if you make a far off prediction, the error^2 will be very high.\n",
    "- For that reason it is not robust to outliers.\n",
    "- It's advisible to you this metric when outliers are in fact outliers."
   ]
  },
  {
   "cell_type": "markdown",
   "metadata": {},
   "source": [
    "## Mean Absolute Error (MAE)"
   ]
  },
  {
   "cell_type": "markdown",
   "metadata": {},
   "source": [
    "### What is it?"
   ]
  },
  {
   "cell_type": "markdown",
   "metadata": {},
   "source": [
    "$$\\text{MAE} = \\sum_{i=1}^{N}\\frac{|\\hat{y_i} - y_i|}{N}$$"
   ]
  },
  {
   "cell_type": "markdown",
   "metadata": {},
   "source": [
    "### When is it good for?"
   ]
  },
  {
   "cell_type": "markdown",
   "metadata": {},
   "source": [
    "- It is in the same scale as the dependent variable.\n",
    "- Unlike RMSE it does not place high weight on far off predictions.\n",
    "- For this reason it is more robust to outliers."
   ]
  },
  {
   "cell_type": "markdown",
   "metadata": {},
   "source": [
    "# Libraries"
   ]
  },
  {
   "cell_type": "markdown",
   "metadata": {},
   "source": [
    "## Sklearn"
   ]
  },
  {
   "cell_type": "code",
   "execution_count": 4,
   "metadata": {},
   "outputs": [],
   "source": [
    "from sklearn.datasets import load_boston\n",
    "from sklearn.linear_model import LinearRegression\n",
    "import pandas as pd\n",
    "import numpy as np\n",
    "from sklearn.model_selection import train_test_split\n",
    "from sklearn.metrics import r2_score,mean_squared_error"
   ]
  },
  {
   "cell_type": "code",
   "execution_count": 5,
   "metadata": {},
   "outputs": [
    {
     "data": {
      "text/html": [
       "<div>\n",
       "<style scoped>\n",
       "    .dataframe tbody tr th:only-of-type {\n",
       "        vertical-align: middle;\n",
       "    }\n",
       "\n",
       "    .dataframe tbody tr th {\n",
       "        vertical-align: top;\n",
       "    }\n",
       "\n",
       "    .dataframe thead th {\n",
       "        text-align: right;\n",
       "    }\n",
       "</style>\n",
       "<table border=\"1\" class=\"dataframe\">\n",
       "  <thead>\n",
       "    <tr style=\"text-align: right;\">\n",
       "      <th></th>\n",
       "      <th>CRIM</th>\n",
       "      <th>ZN</th>\n",
       "      <th>INDUS</th>\n",
       "      <th>CHAS</th>\n",
       "      <th>NOX</th>\n",
       "      <th>RM</th>\n",
       "      <th>AGE</th>\n",
       "      <th>DIS</th>\n",
       "      <th>RAD</th>\n",
       "      <th>TAX</th>\n",
       "      <th>PTRATIO</th>\n",
       "      <th>B</th>\n",
       "      <th>LSTAT</th>\n",
       "      <th>target</th>\n",
       "    </tr>\n",
       "  </thead>\n",
       "  <tbody>\n",
       "    <tr>\n",
       "      <th>0</th>\n",
       "      <td>0.00632</td>\n",
       "      <td>18.0</td>\n",
       "      <td>2.31</td>\n",
       "      <td>0.0</td>\n",
       "      <td>0.538</td>\n",
       "      <td>6.575</td>\n",
       "      <td>65.2</td>\n",
       "      <td>4.0900</td>\n",
       "      <td>1.0</td>\n",
       "      <td>296.0</td>\n",
       "      <td>15.3</td>\n",
       "      <td>396.90</td>\n",
       "      <td>4.98</td>\n",
       "      <td>24.0</td>\n",
       "    </tr>\n",
       "    <tr>\n",
       "      <th>1</th>\n",
       "      <td>0.02731</td>\n",
       "      <td>0.0</td>\n",
       "      <td>7.07</td>\n",
       "      <td>0.0</td>\n",
       "      <td>0.469</td>\n",
       "      <td>6.421</td>\n",
       "      <td>78.9</td>\n",
       "      <td>4.9671</td>\n",
       "      <td>2.0</td>\n",
       "      <td>242.0</td>\n",
       "      <td>17.8</td>\n",
       "      <td>396.90</td>\n",
       "      <td>9.14</td>\n",
       "      <td>21.6</td>\n",
       "    </tr>\n",
       "    <tr>\n",
       "      <th>2</th>\n",
       "      <td>0.02729</td>\n",
       "      <td>0.0</td>\n",
       "      <td>7.07</td>\n",
       "      <td>0.0</td>\n",
       "      <td>0.469</td>\n",
       "      <td>7.185</td>\n",
       "      <td>61.1</td>\n",
       "      <td>4.9671</td>\n",
       "      <td>2.0</td>\n",
       "      <td>242.0</td>\n",
       "      <td>17.8</td>\n",
       "      <td>392.83</td>\n",
       "      <td>4.03</td>\n",
       "      <td>34.7</td>\n",
       "    </tr>\n",
       "    <tr>\n",
       "      <th>3</th>\n",
       "      <td>0.03237</td>\n",
       "      <td>0.0</td>\n",
       "      <td>2.18</td>\n",
       "      <td>0.0</td>\n",
       "      <td>0.458</td>\n",
       "      <td>6.998</td>\n",
       "      <td>45.8</td>\n",
       "      <td>6.0622</td>\n",
       "      <td>3.0</td>\n",
       "      <td>222.0</td>\n",
       "      <td>18.7</td>\n",
       "      <td>394.63</td>\n",
       "      <td>2.94</td>\n",
       "      <td>33.4</td>\n",
       "    </tr>\n",
       "    <tr>\n",
       "      <th>4</th>\n",
       "      <td>0.06905</td>\n",
       "      <td>0.0</td>\n",
       "      <td>2.18</td>\n",
       "      <td>0.0</td>\n",
       "      <td>0.458</td>\n",
       "      <td>7.147</td>\n",
       "      <td>54.2</td>\n",
       "      <td>6.0622</td>\n",
       "      <td>3.0</td>\n",
       "      <td>222.0</td>\n",
       "      <td>18.7</td>\n",
       "      <td>396.90</td>\n",
       "      <td>5.33</td>\n",
       "      <td>36.2</td>\n",
       "    </tr>\n",
       "  </tbody>\n",
       "</table>\n",
       "</div>"
      ],
      "text/plain": [
       "      CRIM    ZN  INDUS  CHAS    NOX     RM   AGE     DIS  RAD    TAX  \\\n",
       "0  0.00632  18.0   2.31   0.0  0.538  6.575  65.2  4.0900  1.0  296.0   \n",
       "1  0.02731   0.0   7.07   0.0  0.469  6.421  78.9  4.9671  2.0  242.0   \n",
       "2  0.02729   0.0   7.07   0.0  0.469  7.185  61.1  4.9671  2.0  242.0   \n",
       "3  0.03237   0.0   2.18   0.0  0.458  6.998  45.8  6.0622  3.0  222.0   \n",
       "4  0.06905   0.0   2.18   0.0  0.458  7.147  54.2  6.0622  3.0  222.0   \n",
       "\n",
       "   PTRATIO       B  LSTAT  target  \n",
       "0     15.3  396.90   4.98    24.0  \n",
       "1     17.8  396.90   9.14    21.6  \n",
       "2     17.8  392.83   4.03    34.7  \n",
       "3     18.7  394.63   2.94    33.4  \n",
       "4     18.7  396.90   5.33    36.2  "
      ]
     },
     "execution_count": 5,
     "metadata": {},
     "output_type": "execute_result"
    }
   ],
   "source": [
    "features = load_boston(return_X_y=False)['feature_names']\n",
    "X,y = load_boston(return_X_y=True)\n",
    "df = pd.DataFrame(X,columns=features)\n",
    "df[\"target\"] = y\n",
    "df.head()"
   ]
  },
  {
   "cell_type": "code",
   "execution_count": 6,
   "metadata": {},
   "outputs": [],
   "source": [
    "X_train, X_test, y_train, y_test = train_test_split(X,y, random_state=0)"
   ]
  },
  {
   "cell_type": "code",
   "execution_count": 7,
   "metadata": {},
   "outputs": [
    {
     "name": "stdout",
     "output_type": "stream",
     "text": [
      "R-squared is 0.635\n",
      "Root mean squared error is 5.457\n"
     ]
    }
   ],
   "source": [
    "lr = LinearRegression()\n",
    "lr.fit(X_train,y_train)\n",
    "preds = lr.predict(X_test)\n",
    "print(\"R-squared is\",r2_score(y_test,preds).round(3))\n",
    "print(\"Root mean squared error is\",np.sqrt(mean_squared_error(y_test,preds)).round(3))"
   ]
  },
  {
   "cell_type": "code",
   "execution_count": 8,
   "metadata": {},
   "outputs": [
    {
     "name": "stdout",
     "output_type": "stream",
     "text": [
      "Coefficients are [-1.17735289e-01  4.40174969e-02 -5.76814314e-03  2.39341594e+00\n",
      " -1.55894211e+01  3.76896770e+00 -7.03517828e-03 -1.43495641e+00\n",
      "  2.40081086e-01 -1.12972810e-02 -9.85546732e-01  8.44443453e-03\n",
      " -4.99116797e-01]\n",
      "Intercept is 36.933255457118975\n"
     ]
    }
   ],
   "source": [
    "print(\"Coefficients are\",lr.coef_)\n",
    "print(\"Intercept is\",lr.intercept_)"
   ]
  },
  {
   "cell_type": "markdown",
   "metadata": {},
   "source": [
    "## Statsmodels"
   ]
  },
  {
   "cell_type": "code",
   "execution_count": 9,
   "metadata": {},
   "outputs": [],
   "source": [
    "import statsmodels.api as sm\n"
   ]
  },
  {
   "cell_type": "code",
   "execution_count": 10,
   "metadata": {},
   "outputs": [
    {
     "data": {
      "text/plain": [
       "array([-0.11631155,  0.04582511, -0.03406271,  2.54347348, -0.07737062,\n",
       "        5.97510447, -0.01528812, -0.92550879,  0.1045704 , -0.00864844,\n",
       "       -0.4486441 ,  0.01412772, -0.38141142])"
      ]
     },
     "execution_count": 10,
     "metadata": {},
     "output_type": "execute_result"
    }
   ],
   "source": [
    "model = sm.OLS(y_train,X_train)\n",
    "results = model.fit()\n",
    "results.params"
   ]
  },
  {
   "cell_type": "code",
   "execution_count": 11,
   "metadata": {},
   "outputs": [
    {
     "data": {
      "text/html": [
       "<table class=\"simpletable\">\n",
       "<caption>OLS Regression Results</caption>\n",
       "<tr>\n",
       "  <th>Dep. Variable:</th>            <td>y</td>        <th>  R-squared (uncentered):</th>      <td>   0.963</td> \n",
       "</tr>\n",
       "<tr>\n",
       "  <th>Model:</th>                   <td>OLS</td>       <th>  Adj. R-squared (uncentered):</th> <td>   0.962</td> \n",
       "</tr>\n",
       "<tr>\n",
       "  <th>Method:</th>             <td>Least Squares</td>  <th>  F-statistic:       </th>          <td>   738.2</td> \n",
       "</tr>\n",
       "<tr>\n",
       "  <th>Date:</th>             <td>Mon, 05 Oct 2020</td> <th>  Prob (F-statistic):</th>          <td>2.27e-253</td>\n",
       "</tr>\n",
       "<tr>\n",
       "  <th>Time:</th>                 <td>22:52:19</td>     <th>  Log-Likelihood:    </th>          <td> -1122.8</td> \n",
       "</tr>\n",
       "<tr>\n",
       "  <th>No. Observations:</th>      <td>   379</td>      <th>  AIC:               </th>          <td>   2272.</td> \n",
       "</tr>\n",
       "<tr>\n",
       "  <th>Df Residuals:</th>          <td>   366</td>      <th>  BIC:               </th>          <td>   2323.</td> \n",
       "</tr>\n",
       "<tr>\n",
       "  <th>Df Model:</th>              <td>    13</td>      <th>                     </th>              <td> </td>    \n",
       "</tr>\n",
       "<tr>\n",
       "  <th>Covariance Type:</th>      <td>nonrobust</td>    <th>                     </th>              <td> </td>    \n",
       "</tr>\n",
       "</table>\n",
       "<table class=\"simpletable\">\n",
       "<tr>\n",
       "   <td></td>      <th>coef</th>     <th>std err</th>      <th>t</th>      <th>P>|t|</th>  <th>[0.025</th>    <th>0.975]</th>  \n",
       "</tr>\n",
       "<tr>\n",
       "  <th>x1</th>  <td>   -0.1163</td> <td>    0.040</td> <td>   -2.944</td> <td> 0.003</td> <td>   -0.194</td> <td>   -0.039</td>\n",
       "</tr>\n",
       "<tr>\n",
       "  <th>x2</th>  <td>    0.0458</td> <td>    0.016</td> <td>    2.895</td> <td> 0.004</td> <td>    0.015</td> <td>    0.077</td>\n",
       "</tr>\n",
       "<tr>\n",
       "  <th>x3</th>  <td>   -0.0341</td> <td>    0.070</td> <td>   -0.485</td> <td> 0.628</td> <td>   -0.172</td> <td>    0.104</td>\n",
       "</tr>\n",
       "<tr>\n",
       "  <th>x4</th>  <td>    2.5435</td> <td>    1.014</td> <td>    2.508</td> <td> 0.013</td> <td>    0.549</td> <td>    4.538</td>\n",
       "</tr>\n",
       "<tr>\n",
       "  <th>x5</th>  <td>   -0.0774</td> <td>    3.812</td> <td>   -0.020</td> <td> 0.984</td> <td>   -7.573</td> <td>    7.419</td>\n",
       "</tr>\n",
       "<tr>\n",
       "  <th>x6</th>  <td>    5.9751</td> <td>    0.346</td> <td>   17.252</td> <td> 0.000</td> <td>    5.294</td> <td>    6.656</td>\n",
       "</tr>\n",
       "<tr>\n",
       "  <th>x7</th>  <td>   -0.0153</td> <td>    0.016</td> <td>   -0.975</td> <td> 0.330</td> <td>   -0.046</td> <td>    0.016</td>\n",
       "</tr>\n",
       "<tr>\n",
       "  <th>x8</th>  <td>   -0.9255</td> <td>    0.222</td> <td>   -4.178</td> <td> 0.000</td> <td>   -1.361</td> <td>   -0.490</td>\n",
       "</tr>\n",
       "<tr>\n",
       "  <th>x9</th>  <td>    0.1046</td> <td>    0.074</td> <td>    1.423</td> <td> 0.156</td> <td>   -0.040</td> <td>    0.249</td>\n",
       "</tr>\n",
       "<tr>\n",
       "  <th>x10</th> <td>   -0.0086</td> <td>    0.004</td> <td>   -2.027</td> <td> 0.043</td> <td>   -0.017</td> <td>   -0.000</td>\n",
       "</tr>\n",
       "<tr>\n",
       "  <th>x11</th> <td>   -0.4486</td> <td>    0.126</td> <td>   -3.566</td> <td> 0.000</td> <td>   -0.696</td> <td>   -0.201</td>\n",
       "</tr>\n",
       "<tr>\n",
       "  <th>x12</th> <td>    0.0141</td> <td>    0.003</td> <td>    4.608</td> <td> 0.000</td> <td>    0.008</td> <td>    0.020</td>\n",
       "</tr>\n",
       "<tr>\n",
       "  <th>x13</th> <td>   -0.3814</td> <td>    0.058</td> <td>   -6.615</td> <td> 0.000</td> <td>   -0.495</td> <td>   -0.268</td>\n",
       "</tr>\n",
       "</table>\n",
       "<table class=\"simpletable\">\n",
       "<tr>\n",
       "  <th>Omnibus:</th>       <td>179.629</td> <th>  Durbin-Watson:     </th> <td>   2.029</td>\n",
       "</tr>\n",
       "<tr>\n",
       "  <th>Prob(Omnibus):</th> <td> 0.000</td>  <th>  Jarque-Bera (JB):  </th> <td>1538.969</td>\n",
       "</tr>\n",
       "<tr>\n",
       "  <th>Skew:</th>          <td> 1.798</td>  <th>  Prob(JB):          </th> <td>    0.00</td>\n",
       "</tr>\n",
       "<tr>\n",
       "  <th>Kurtosis:</th>      <td>12.194</td>  <th>  Cond. No.          </th> <td>8.70e+03</td>\n",
       "</tr>\n",
       "</table><br/><br/>Warnings:<br/>[1] Standard Errors assume that the covariance matrix of the errors is correctly specified.<br/>[2] The condition number is large, 8.7e+03. This might indicate that there are<br/>strong multicollinearity or other numerical problems."
      ],
      "text/plain": [
       "<class 'statsmodels.iolib.summary.Summary'>\n",
       "\"\"\"\n",
       "                                 OLS Regression Results                                \n",
       "=======================================================================================\n",
       "Dep. Variable:                      y   R-squared (uncentered):                   0.963\n",
       "Model:                            OLS   Adj. R-squared (uncentered):              0.962\n",
       "Method:                 Least Squares   F-statistic:                              738.2\n",
       "Date:                Mon, 05 Oct 2020   Prob (F-statistic):                   2.27e-253\n",
       "Time:                        22:52:19   Log-Likelihood:                         -1122.8\n",
       "No. Observations:                 379   AIC:                                      2272.\n",
       "Df Residuals:                     366   BIC:                                      2323.\n",
       "Df Model:                          13                                                  \n",
       "Covariance Type:            nonrobust                                                  \n",
       "==============================================================================\n",
       "                 coef    std err          t      P>|t|      [0.025      0.975]\n",
       "------------------------------------------------------------------------------\n",
       "x1            -0.1163      0.040     -2.944      0.003      -0.194      -0.039\n",
       "x2             0.0458      0.016      2.895      0.004       0.015       0.077\n",
       "x3            -0.0341      0.070     -0.485      0.628      -0.172       0.104\n",
       "x4             2.5435      1.014      2.508      0.013       0.549       4.538\n",
       "x5            -0.0774      3.812     -0.020      0.984      -7.573       7.419\n",
       "x6             5.9751      0.346     17.252      0.000       5.294       6.656\n",
       "x7            -0.0153      0.016     -0.975      0.330      -0.046       0.016\n",
       "x8            -0.9255      0.222     -4.178      0.000      -1.361      -0.490\n",
       "x9             0.1046      0.074      1.423      0.156      -0.040       0.249\n",
       "x10           -0.0086      0.004     -2.027      0.043      -0.017      -0.000\n",
       "x11           -0.4486      0.126     -3.566      0.000      -0.696      -0.201\n",
       "x12            0.0141      0.003      4.608      0.000       0.008       0.020\n",
       "x13           -0.3814      0.058     -6.615      0.000      -0.495      -0.268\n",
       "==============================================================================\n",
       "Omnibus:                      179.629   Durbin-Watson:                   2.029\n",
       "Prob(Omnibus):                  0.000   Jarque-Bera (JB):             1538.969\n",
       "Skew:                           1.798   Prob(JB):                         0.00\n",
       "Kurtosis:                      12.194   Cond. No.                     8.70e+03\n",
       "==============================================================================\n",
       "\n",
       "Warnings:\n",
       "[1] Standard Errors assume that the covariance matrix of the errors is correctly specified.\n",
       "[2] The condition number is large, 8.7e+03. This might indicate that there are\n",
       "strong multicollinearity or other numerical problems.\n",
       "\"\"\""
      ]
     },
     "execution_count": 11,
     "metadata": {},
     "output_type": "execute_result"
    }
   ],
   "source": [
    "results.summary()"
   ]
  },
  {
   "cell_type": "code",
   "execution_count": 12,
   "metadata": {},
   "outputs": [
    {
     "name": "stdout",
     "output_type": "stream",
     "text": [
      "R-squared is 0.599\n",
      "Root mean squared error is 5.722\n"
     ]
    }
   ],
   "source": [
    "preds = results.predict(X_test)\n",
    "print(\"R-squared is\",r2_score(y_test,preds).round(3))\n",
    "print(\"Root mean squared error is\",np.sqrt(mean_squared_error(y_test,preds)).round(3))"
   ]
  },
  {
   "cell_type": "markdown",
   "metadata": {},
   "source": [
    "# Resources\n",
    "\n",
    "- https://www.coursera.org/learn/machine-learning\n",
    "\n",
    "- https://realpython.com/linear-regression-in-python/\n",
    "\n",
    "- A short introduction to linear regression. http://onlinestatbook.com/2/regression/intro.html"
   ]
  },
  {
   "cell_type": "code",
   "execution_count": null,
   "metadata": {},
   "outputs": [],
   "source": []
  }
 ],
 "metadata": {
  "kernelspec": {
   "display_name": "Python 3",
   "language": "python",
   "name": "python3"
  },
  "language_info": {
   "codemirror_mode": {
    "name": "ipython",
    "version": 3
   },
   "file_extension": ".py",
   "mimetype": "text/x-python",
   "name": "python",
   "nbconvert_exporter": "python",
   "pygments_lexer": "ipython3",
   "version": "3.7.5"
  },
  "toc": {
   "base_numbering": 1,
   "nav_menu": {},
   "number_sections": true,
   "sideBar": true,
   "skip_h1_title": false,
   "title_cell": "Table of Contents",
   "title_sidebar": "Contents",
   "toc_cell": true,
   "toc_position": {},
   "toc_section_display": true,
   "toc_window_display": true
  }
 },
 "nbformat": 4,
 "nbformat_minor": 4
}
